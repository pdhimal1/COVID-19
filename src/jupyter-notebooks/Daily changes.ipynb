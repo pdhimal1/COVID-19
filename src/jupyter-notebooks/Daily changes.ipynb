{
 "cells": [
  {
   "cell_type": "code",
   "execution_count": 1,
   "metadata": {},
   "outputs": [],
   "source": [
    "import seaborn\n",
    "import pandas as pd"
   ]
  },
  {
   "cell_type": "code",
   "execution_count": 2,
   "metadata": {},
   "outputs": [],
   "source": [
    "def get_raw_data():\n",
    "    confirmed_df = pd.read_csv(\n",
    "        'https://raw.githubusercontent.com/CSSEGISandData/COVID-19/master/csse_covid_19_data/csse_covid_19_time_series/time_series_covid19_confirmed_global.csv')\n",
    "    recovered_df = pd.read_csv(\n",
    "        'https://raw.githubusercontent.com/CSSEGISandData/COVID-19/master/csse_covid_19_data/csse_covid_19_time_series/time_series_covid19_recovered_global.csv')\n",
    "    death_df = pd.read_csv(\n",
    "        'https://raw.githubusercontent.com/CSSEGISandData/COVID-19/master/csse_covid_19_data/csse_covid_19_time_series/time_series_covid19_deaths_global.csv')\n",
    "    return confirmed_df, recovered_df, death_df"
   ]
  },
  {
   "cell_type": "code",
   "execution_count": 3,
   "metadata": {},
   "outputs": [],
   "source": [
    "def get_country_data_running_total(data, columnName, countryName):\n",
    "    country_data = data.loc[data['Country/Region'] == countryName]\n",
    "    country_time_series_only = country_data.drop([\"Province/State\", \"Country/Region\", \"Lat\", \"Long\"], axis=1)\n",
    "    transposed = country_time_series_only.transpose()\n",
    "    transposed = pd.DataFrame({\n",
    "        columnName: transposed.sum(axis=1)\n",
    "    })\n",
    "    return transposed"
   ]
  },
  {
   "cell_type": "code",
   "execution_count": 4,
   "metadata": {},
   "outputs": [],
   "source": [
    "def get_country_confirmed_recovered_death_running_total_data(confirmed_df, recovered_df, death_df, countryName):\n",
    "    country_confirmed = get_country_data_running_total(confirmed_df, \"Confirmed\", countryName)\n",
    "    country_recovered = get_country_data_running_total(recovered_df, \"Recovered\", countryName)\n",
    "    country_death = get_country_data_running_total(death_df, \"Death\", countryName)\n",
    "    country_all = country_confirmed\n",
    "    country_all[\"Recovered\"] = country_recovered.Recovered\n",
    "    country_all[\"Death\"] = country_death.Death\n",
    "    return country_all"
   ]
  },
  {
   "cell_type": "code",
   "execution_count": 5,
   "metadata": {},
   "outputs": [],
   "source": [
    "def get_US_running_total(confirmed_df, recovered_df, death_df):\n",
    "    us_data = get_country_confirmed_recovered_death_running_total_data(\n",
    "        confirmed_df,\n",
    "        recovered_df,\n",
    "        death_df,\n",
    "        \"US\")\n",
    "    return us_data"
   ]
  },
  {
   "cell_type": "code",
   "execution_count": null,
   "metadata": {},
   "outputs": [],
   "source": []
  },
  {
   "cell_type": "code",
   "execution_count": 6,
   "metadata": {},
   "outputs": [],
   "source": [
    "confirmed_df, recovered_df, death_df = get_raw_data()"
   ]
  },
  {
   "cell_type": "code",
   "execution_count": 7,
   "metadata": {},
   "outputs": [
    {
     "data": {
      "text/html": [
       "<div>\n",
       "<style scoped>\n",
       "    .dataframe tbody tr th:only-of-type {\n",
       "        vertical-align: middle;\n",
       "    }\n",
       "\n",
       "    .dataframe tbody tr th {\n",
       "        vertical-align: top;\n",
       "    }\n",
       "\n",
       "    .dataframe thead th {\n",
       "        text-align: right;\n",
       "    }\n",
       "</style>\n",
       "<table border=\"1\" class=\"dataframe\">\n",
       "  <thead>\n",
       "    <tr style=\"text-align: right;\">\n",
       "      <th></th>\n",
       "      <th>Confirmed</th>\n",
       "      <th>Recovered</th>\n",
       "      <th>Death</th>\n",
       "    </tr>\n",
       "  </thead>\n",
       "  <tbody>\n",
       "    <tr>\n",
       "      <th>1/22/20</th>\n",
       "      <td>1</td>\n",
       "      <td>0</td>\n",
       "      <td>0</td>\n",
       "    </tr>\n",
       "    <tr>\n",
       "      <th>1/23/20</th>\n",
       "      <td>1</td>\n",
       "      <td>0</td>\n",
       "      <td>0</td>\n",
       "    </tr>\n",
       "    <tr>\n",
       "      <th>1/24/20</th>\n",
       "      <td>2</td>\n",
       "      <td>0</td>\n",
       "      <td>0</td>\n",
       "    </tr>\n",
       "    <tr>\n",
       "      <th>1/25/20</th>\n",
       "      <td>2</td>\n",
       "      <td>0</td>\n",
       "      <td>0</td>\n",
       "    </tr>\n",
       "    <tr>\n",
       "      <th>1/26/20</th>\n",
       "      <td>5</td>\n",
       "      <td>0</td>\n",
       "      <td>0</td>\n",
       "    </tr>\n",
       "    <tr>\n",
       "      <th>...</th>\n",
       "      <td>...</td>\n",
       "      <td>...</td>\n",
       "      <td>...</td>\n",
       "    </tr>\n",
       "    <tr>\n",
       "      <th>5/6/20</th>\n",
       "      <td>1229331</td>\n",
       "      <td>189910</td>\n",
       "      <td>73455</td>\n",
       "    </tr>\n",
       "    <tr>\n",
       "      <th>5/7/20</th>\n",
       "      <td>1257023</td>\n",
       "      <td>195036</td>\n",
       "      <td>75662</td>\n",
       "    </tr>\n",
       "    <tr>\n",
       "      <th>5/8/20</th>\n",
       "      <td>1283929</td>\n",
       "      <td>198993</td>\n",
       "      <td>77180</td>\n",
       "    </tr>\n",
       "    <tr>\n",
       "      <th>5/9/20</th>\n",
       "      <td>1309550</td>\n",
       "      <td>212534</td>\n",
       "      <td>78795</td>\n",
       "    </tr>\n",
       "    <tr>\n",
       "      <th>5/10/20</th>\n",
       "      <td>1329260</td>\n",
       "      <td>216169</td>\n",
       "      <td>79526</td>\n",
       "    </tr>\n",
       "  </tbody>\n",
       "</table>\n",
       "<p>110 rows × 3 columns</p>\n",
       "</div>"
      ],
      "text/plain": [
       "         Confirmed  Recovered  Death\n",
       "1/22/20          1          0      0\n",
       "1/23/20          1          0      0\n",
       "1/24/20          2          0      0\n",
       "1/25/20          2          0      0\n",
       "1/26/20          5          0      0\n",
       "...            ...        ...    ...\n",
       "5/6/20     1229331     189910  73455\n",
       "5/7/20     1257023     195036  75662\n",
       "5/8/20     1283929     198993  77180\n",
       "5/9/20     1309550     212534  78795\n",
       "5/10/20    1329260     216169  79526\n",
       "\n",
       "[110 rows x 3 columns]"
      ]
     },
     "execution_count": 7,
     "metadata": {},
     "output_type": "execute_result"
    }
   ],
   "source": [
    "us_only = get_US_running_total(confirmed_df, recovered_df, death_df)\n",
    "us_only"
   ]
  },
  {
   "cell_type": "code",
   "execution_count": 8,
   "metadata": {},
   "outputs": [
    {
     "data": {
      "text/html": [
       "<div>\n",
       "<style scoped>\n",
       "    .dataframe tbody tr th:only-of-type {\n",
       "        vertical-align: middle;\n",
       "    }\n",
       "\n",
       "    .dataframe tbody tr th {\n",
       "        vertical-align: top;\n",
       "    }\n",
       "\n",
       "    .dataframe thead th {\n",
       "        text-align: right;\n",
       "    }\n",
       "</style>\n",
       "<table border=\"1\" class=\"dataframe\">\n",
       "  <thead>\n",
       "    <tr style=\"text-align: right;\">\n",
       "      <th></th>\n",
       "      <th>Confirmed</th>\n",
       "      <th>Recovered</th>\n",
       "      <th>Death</th>\n",
       "    </tr>\n",
       "  </thead>\n",
       "  <tbody>\n",
       "    <tr>\n",
       "      <th>4/27/20</th>\n",
       "      <td>22412.0</td>\n",
       "      <td>4436.0</td>\n",
       "      <td>1338.0</td>\n",
       "    </tr>\n",
       "    <tr>\n",
       "      <th>4/28/20</th>\n",
       "      <td>24385.0</td>\n",
       "      <td>4512.0</td>\n",
       "      <td>2136.0</td>\n",
       "    </tr>\n",
       "    <tr>\n",
       "      <th>4/29/20</th>\n",
       "      <td>27327.0</td>\n",
       "      <td>4784.0</td>\n",
       "      <td>2612.0</td>\n",
       "    </tr>\n",
       "    <tr>\n",
       "      <th>4/30/20</th>\n",
       "      <td>29515.0</td>\n",
       "      <td>33227.0</td>\n",
       "      <td>2029.0</td>\n",
       "    </tr>\n",
       "    <tr>\n",
       "      <th>5/1/20</th>\n",
       "      <td>34037.0</td>\n",
       "      <td>10068.0</td>\n",
       "      <td>1947.0</td>\n",
       "    </tr>\n",
       "    <tr>\n",
       "      <th>5/2/20</th>\n",
       "      <td>29078.0</td>\n",
       "      <td>11367.0</td>\n",
       "      <td>1426.0</td>\n",
       "    </tr>\n",
       "    <tr>\n",
       "      <th>5/3/20</th>\n",
       "      <td>25501.0</td>\n",
       "      <td>4770.0</td>\n",
       "      <td>1313.0</td>\n",
       "    </tr>\n",
       "    <tr>\n",
       "      <th>5/4/20</th>\n",
       "      <td>22335.0</td>\n",
       "      <td>7028.0</td>\n",
       "      <td>1240.0</td>\n",
       "    </tr>\n",
       "    <tr>\n",
       "      <th>5/5/20</th>\n",
       "      <td>23976.0</td>\n",
       "      <td>2611.0</td>\n",
       "      <td>2142.0</td>\n",
       "    </tr>\n",
       "    <tr>\n",
       "      <th>5/6/20</th>\n",
       "      <td>24980.0</td>\n",
       "      <td>119.0</td>\n",
       "      <td>2391.0</td>\n",
       "    </tr>\n",
       "    <tr>\n",
       "      <th>5/7/20</th>\n",
       "      <td>27692.0</td>\n",
       "      <td>5126.0</td>\n",
       "      <td>2207.0</td>\n",
       "    </tr>\n",
       "    <tr>\n",
       "      <th>5/8/20</th>\n",
       "      <td>26906.0</td>\n",
       "      <td>3957.0</td>\n",
       "      <td>1518.0</td>\n",
       "    </tr>\n",
       "    <tr>\n",
       "      <th>5/9/20</th>\n",
       "      <td>25621.0</td>\n",
       "      <td>13541.0</td>\n",
       "      <td>1615.0</td>\n",
       "    </tr>\n",
       "    <tr>\n",
       "      <th>5/10/20</th>\n",
       "      <td>19710.0</td>\n",
       "      <td>3635.0</td>\n",
       "      <td>731.0</td>\n",
       "    </tr>\n",
       "  </tbody>\n",
       "</table>\n",
       "</div>"
      ],
      "text/plain": [
       "         Confirmed  Recovered   Death\n",
       "4/27/20    22412.0     4436.0  1338.0\n",
       "4/28/20    24385.0     4512.0  2136.0\n",
       "4/29/20    27327.0     4784.0  2612.0\n",
       "4/30/20    29515.0    33227.0  2029.0\n",
       "5/1/20     34037.0    10068.0  1947.0\n",
       "5/2/20     29078.0    11367.0  1426.0\n",
       "5/3/20     25501.0     4770.0  1313.0\n",
       "5/4/20     22335.0     7028.0  1240.0\n",
       "5/5/20     23976.0     2611.0  2142.0\n",
       "5/6/20     24980.0      119.0  2391.0\n",
       "5/7/20     27692.0     5126.0  2207.0\n",
       "5/8/20     26906.0     3957.0  1518.0\n",
       "5/9/20     25621.0    13541.0  1615.0\n",
       "5/10/20    19710.0     3635.0   731.0"
      ]
     },
     "execution_count": 8,
     "metadata": {},
     "output_type": "execute_result"
    }
   ],
   "source": [
    "new_numbers = us_only.diff().dropna()\n",
    "new_numbers[-14:]"
   ]
  },
  {
   "cell_type": "code",
   "execution_count": 9,
   "metadata": {},
   "outputs": [
    {
     "data": {
      "text/plain": [
       "<matplotlib.axes._subplots.AxesSubplot at 0x7f6867ebaac8>"
      ]
     },
     "execution_count": 9,
     "metadata": {},
     "output_type": "execute_result"
    },
    {
     "data": {
      "image/png": "[encoded data removed]",
      "text/plain": [
       "<Figure size 432x288 with 1 Axes>"
      ]
     },
     "metadata": {
      "needs_background": "light"
     },
     "output_type": "display_data"
    }
   ],
   "source": [
    "new_numbers[-14:].plot(kind='bar')"
   ]
  },
  {
   "cell_type": "code",
   "execution_count": 10,
   "metadata": {
    "scrolled": false
   },
   "outputs": [
    {
     "data": {
      "text/plain": [
       "<matplotlib.axes._subplots.AxesSubplot at 0x7f68656ce6a0>"
      ]
     },
     "execution_count": 10,
     "metadata": {},
     "output_type": "execute_result"
    },
    {
     "data": {
      "image/png": "[encoded data removed]",
      "text/plain": [
       "<Figure size 432x288 with 1 Axes>"
      ]
     },
     "metadata": {
      "needs_background": "light"
     },
     "output_type": "display_data"
    }
   ],
   "source": [
    "new_numbers[-60:].plot()"
   ]
  },
  {
   "cell_type": "markdown",
   "metadata": {},
   "source": [
    "Looking at the daily changes"
   ]
  },
  {
   "cell_type": "code",
   "execution_count": 238,
   "metadata": {},
   "outputs": [
    {
     "data": {
      "text/plain": [
       "<matplotlib.axes._subplots.AxesSubplot at 0x7fc9b767db38>"
      ]
     },
     "execution_count": 238,
     "metadata": {},
     "output_type": "execute_result"
    },
    {
     "data": {
      "image/png": "[encoded data removed]",
      "text/plain": [
       "<Figure size 432x288 with 1 Axes>"
      ]
     },
     "metadata": {
      "needs_background": "light"
     },
     "output_type": "display_data"
    }
   ],
   "source": [
    "new_numbers.diff()[-14:].plot(kind='bar')"
   ]
  },
  {
   "cell_type": "markdown",
   "metadata": {},
   "source": [
    "Adding 14 days rolling average for new confirmed cases."
   ]
  },
  {
   "cell_type": "code",
   "execution_count": 239,
   "metadata": {},
   "outputs": [
    {
     "data": {
      "text/plain": [
       "<matplotlib.axes._subplots.AxesSubplot at 0x7fc9b7568898>"
      ]
     },
     "execution_count": 239,
     "metadata": {},
     "output_type": "execute_result"
    },
    {
     "data": {
      "image/png": "[encoded data removed]",
      "text/plain": [
       "<Figure size 432x288 with 1 Axes>"
      ]
     },
     "metadata": {
      "needs_background": "light"
     },
     "output_type": "display_data"
    }
   ],
   "source": [
    "new_numbers['rolling average'] = new_numbers.Confirmed.rolling(7).mean()\n",
    "new_numbers = new_numbers.dropna()\n",
    "new_numbers[-60:].plot()"
   ]
  },
  {
   "cell_type": "code",
   "execution_count": 240,
   "metadata": {},
   "outputs": [
    {
     "data": {
      "text/html": [
       "<div>\n",
       "<style scoped>\n",
       "    .dataframe tbody tr th:only-of-type {\n",
       "        vertical-align: middle;\n",
       "    }\n",
       "\n",
       "    .dataframe tbody tr th {\n",
       "        vertical-align: top;\n",
       "    }\n",
       "\n",
       "    .dataframe thead th {\n",
       "        text-align: right;\n",
       "    }\n",
       "</style>\n",
       "<table border=\"1\" class=\"dataframe\">\n",
       "  <thead>\n",
       "    <tr style=\"text-align: right;\">\n",
       "      <th></th>\n",
       "      <th>Confirmed</th>\n",
       "      <th>Recovered</th>\n",
       "      <th>Death</th>\n",
       "      <th>rolling average</th>\n",
       "    </tr>\n",
       "  </thead>\n",
       "  <tbody>\n",
       "    <tr>\n",
       "      <th>4/27/20</th>\n",
       "      <td>22412.0</td>\n",
       "      <td>4436.0</td>\n",
       "      <td>1338.0</td>\n",
       "      <td>29124.428571</td>\n",
       "    </tr>\n",
       "    <tr>\n",
       "      <th>4/28/20</th>\n",
       "      <td>24385.0</td>\n",
       "      <td>4512.0</td>\n",
       "      <td>2136.0</td>\n",
       "      <td>28673.857143</td>\n",
       "    </tr>\n",
       "    <tr>\n",
       "      <th>4/29/20</th>\n",
       "      <td>27327.0</td>\n",
       "      <td>4784.0</td>\n",
       "      <td>2612.0</td>\n",
       "      <td>28508.285714</td>\n",
       "    </tr>\n",
       "    <tr>\n",
       "      <th>4/30/20</th>\n",
       "      <td>29515.0</td>\n",
       "      <td>33227.0</td>\n",
       "      <td>2029.0</td>\n",
       "      <td>28607.714286</td>\n",
       "    </tr>\n",
       "    <tr>\n",
       "      <th>5/1/20</th>\n",
       "      <td>34037.0</td>\n",
       "      <td>10068.0</td>\n",
       "      <td>1947.0</td>\n",
       "      <td>28300.428571</td>\n",
       "    </tr>\n",
       "    <tr>\n",
       "      <th>5/2/20</th>\n",
       "      <td>29078.0</td>\n",
       "      <td>11367.0</td>\n",
       "      <td>1426.0</td>\n",
       "      <td>27769.285714</td>\n",
       "    </tr>\n",
       "    <tr>\n",
       "      <th>5/3/20</th>\n",
       "      <td>25501.0</td>\n",
       "      <td>4770.0</td>\n",
       "      <td>1313.0</td>\n",
       "      <td>27465.000000</td>\n",
       "    </tr>\n",
       "    <tr>\n",
       "      <th>5/4/20</th>\n",
       "      <td>22335.0</td>\n",
       "      <td>7028.0</td>\n",
       "      <td>1240.0</td>\n",
       "      <td>27454.000000</td>\n",
       "    </tr>\n",
       "    <tr>\n",
       "      <th>5/5/20</th>\n",
       "      <td>23976.0</td>\n",
       "      <td>2611.0</td>\n",
       "      <td>2142.0</td>\n",
       "      <td>27395.571429</td>\n",
       "    </tr>\n",
       "    <tr>\n",
       "      <th>5/6/20</th>\n",
       "      <td>24980.0</td>\n",
       "      <td>119.0</td>\n",
       "      <td>2391.0</td>\n",
       "      <td>27060.285714</td>\n",
       "    </tr>\n",
       "    <tr>\n",
       "      <th>5/7/20</th>\n",
       "      <td>27692.0</td>\n",
       "      <td>5126.0</td>\n",
       "      <td>2207.0</td>\n",
       "      <td>26799.857143</td>\n",
       "    </tr>\n",
       "    <tr>\n",
       "      <th>5/8/20</th>\n",
       "      <td>26906.0</td>\n",
       "      <td>3957.0</td>\n",
       "      <td>1518.0</td>\n",
       "      <td>25781.142857</td>\n",
       "    </tr>\n",
       "    <tr>\n",
       "      <th>5/9/20</th>\n",
       "      <td>25621.0</td>\n",
       "      <td>13541.0</td>\n",
       "      <td>1615.0</td>\n",
       "      <td>25287.285714</td>\n",
       "    </tr>\n",
       "    <tr>\n",
       "      <th>5/10/20</th>\n",
       "      <td>19710.0</td>\n",
       "      <td>3635.0</td>\n",
       "      <td>731.0</td>\n",
       "      <td>24460.000000</td>\n",
       "    </tr>\n",
       "  </tbody>\n",
       "</table>\n",
       "</div>"
      ],
      "text/plain": [
       "         Confirmed  Recovered   Death  rolling average\n",
       "4/27/20    22412.0     4436.0  1338.0     29124.428571\n",
       "4/28/20    24385.0     4512.0  2136.0     28673.857143\n",
       "4/29/20    27327.0     4784.0  2612.0     28508.285714\n",
       "4/30/20    29515.0    33227.0  2029.0     28607.714286\n",
       "5/1/20     34037.0    10068.0  1947.0     28300.428571\n",
       "5/2/20     29078.0    11367.0  1426.0     27769.285714\n",
       "5/3/20     25501.0     4770.0  1313.0     27465.000000\n",
       "5/4/20     22335.0     7028.0  1240.0     27454.000000\n",
       "5/5/20     23976.0     2611.0  2142.0     27395.571429\n",
       "5/6/20     24980.0      119.0  2391.0     27060.285714\n",
       "5/7/20     27692.0     5126.0  2207.0     26799.857143\n",
       "5/8/20     26906.0     3957.0  1518.0     25781.142857\n",
       "5/9/20     25621.0    13541.0  1615.0     25287.285714\n",
       "5/10/20    19710.0     3635.0   731.0     24460.000000"
      ]
     },
     "execution_count": 240,
     "metadata": {},
     "output_type": "execute_result"
    }
   ],
   "source": [
    "new_numbers[-14:]"
   ]
  },
  {
   "cell_type": "code",
   "execution_count": 241,
   "metadata": {},
   "outputs": [
    {
     "data": {
      "text/plain": [
       "4/27/20    -443.571429\n",
       "4/28/20    -450.571429\n",
       "4/29/20    -165.571429\n",
       "4/30/20      99.428571\n",
       "5/1/20     -307.285714\n",
       "5/2/20     -531.142857\n",
       "5/3/20     -304.285714\n",
       "5/4/20      -11.000000\n",
       "5/5/20      -58.428571\n",
       "5/6/20     -335.285714\n",
       "5/7/20     -260.428571\n",
       "5/8/20    -1018.714286\n",
       "5/9/20     -493.857143\n",
       "5/10/20    -827.285714\n",
       "Name: rolling average, dtype: float64"
      ]
     },
     "execution_count": 241,
     "metadata": {},
     "output_type": "execute_result"
    }
   ],
   "source": [
    "new_numbers['rolling average'].diff()[-14:]"
   ]
  },
  {
   "cell_type": "code",
   "execution_count": 242,
   "metadata": {},
   "outputs": [
    {
     "data": {
      "text/plain": [
       "<matplotlib.axes._subplots.AxesSubplot at 0x7fc9b7553320>"
      ]
     },
     "execution_count": 242,
     "metadata": {},
     "output_type": "execute_result"
    },
    {
     "data": {
      "image/png": "[encoded data removed]",
      "text/plain": [
       "<Figure size 432x288 with 1 Axes>"
      ]
     },
     "metadata": {
      "needs_background": "light"
     },
     "output_type": "display_data"
    }
   ],
   "source": [
    "new_numbers['rolling average'].diff()[-14:].plot(kind='bar')"
   ]
  },
  {
   "cell_type": "markdown",
   "metadata": {},
   "source": [
    "Relation Plot using seaborn"
   ]
  },
  {
   "cell_type": "code",
   "execution_count": 243,
   "metadata": {},
   "outputs": [
    {
     "data": {
      "text/plain": [
       "<seaborn.axisgrid.FacetGrid at 0x7fc9b7462dd8>"
      ]
     },
     "execution_count": 243,
     "metadata": {},
     "output_type": "execute_result"
    },
    {
     "data": {
      "image/png": "[encoded data removed]",
      "text/plain": [
       "<Figure size 360x360 with 1 Axes>"
      ]
     },
     "metadata": {
      "needs_background": "light"
     },
     "output_type": "display_data"
    }
   ],
   "source": [
    "seaborn.relplot(x='Confirmed', y='Death', data=new_numbers)"
   ]
  },
  {
   "cell_type": "code",
   "execution_count": 244,
   "metadata": {},
   "outputs": [
    {
     "data": {
      "text/plain": [
       "<seaborn.axisgrid.FacetGrid at 0x7fc9b747ac18>"
      ]
     },
     "execution_count": 244,
     "metadata": {},
     "output_type": "execute_result"
    },
    {
     "data": {
      "image/png": "[encoded data removed]",
      "text/plain": [
       "<Figure size 360x360 with 1 Axes>"
      ]
     },
     "metadata": {
      "needs_background": "light"
     },
     "output_type": "display_data"
    }
   ],
   "source": [
    "seaborn.relplot(x='Confirmed', y='Recovered', data=new_numbers)"
   ]
  },
  {
   "cell_type": "code",
   "execution_count": 245,
   "metadata": {},
   "outputs": [
    {
     "data": {
      "text/plain": [
       "<seaborn.axisgrid.FacetGrid at 0x7fc9b74977b8>"
      ]
     },
     "execution_count": 245,
     "metadata": {},
     "output_type": "execute_result"
    },
    {
     "data": {
      "image/png": "[encoded data removed]",
      "text/plain": [
       "<Figure size 360x360 with 1 Axes>"
      ]
     },
     "metadata": {
      "needs_background": "light"
     },
     "output_type": "display_data"
    }
   ],
   "source": [
    "seaborn.relplot(x='Death', y='Recovered', data=new_numbers)"
   ]
  },
  {
   "cell_type": "code",
   "execution_count": null,
   "metadata": {},
   "outputs": [],
   "source": []
  },
  {
   "cell_type": "code",
   "execution_count": null,
   "metadata": {},
   "outputs": [],
   "source": []
  }
 ],
 "metadata": {
  "kernelspec": {
   "display_name": "Python 3",
   "language": "python",
   "name": "python3"
  },
  "language_info": {
   "codemirror_mode": {
    "name": "ipython",
    "version": 3
   },
   "file_extension": ".py",
   "mimetype": "text/x-python",
   "name": "python",
   "nbconvert_exporter": "python",
   "pygments_lexer": "ipython3",
   "version": "3.6.8"
  }
 },
 "nbformat": 4,
 "nbformat_minor": 4
}
