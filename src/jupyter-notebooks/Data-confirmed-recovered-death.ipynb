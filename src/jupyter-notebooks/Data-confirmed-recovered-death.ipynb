{
 "cells": [
  {
   "cell_type": "markdown",
   "metadata": {},
   "source": [
    "William Austin<br>\n",
    "Prakash Dhimal<br>\n",
    "George Mason University<br>\n",
    "CS 584 Theory and Applications of Data Mining<br>\n",
    "Semester project: Predicting the Impact of COVID-19"
   ]
  },
  {
   "cell_type": "code",
   "execution_count": 1,
   "metadata": {},
   "outputs": [],
   "source": [
    "import pandas as pd"
   ]
  },
  {
   "cell_type": "markdown",
   "metadata": {},
   "source": [
    "Import the data from the Novel Coronavirus COVID-19 Data Repository from Johns Hopkins University’s Center for Systems Science and Engineering (CSSE)"
   ]
  },
  {
   "cell_type": "code",
   "execution_count": 2,
   "metadata": {},
   "outputs": [],
   "source": [
    "def get_raw_date():\n",
    "    confirmed_df = pd.read_csv(\n",
    "        'https://raw.githubusercontent.com/CSSEGISandData/COVID-19/master/csse_covid_19_data/csse_covid_19_time_series/time_series_covid19_confirmed_global.csv')\n",
    "    recovered_df = pd.read_csv(\n",
    "        'https://raw.githubusercontent.com/CSSEGISandData/COVID-19/master/csse_covid_19_data/csse_covid_19_time_series/time_series_covid19_recovered_global.csv')\n",
    "    death_df = pd.read_csv(\n",
    "        'https://raw.githubusercontent.com/CSSEGISandData/COVID-19/master/csse_covid_19_data/csse_covid_19_time_series/time_series_covid19_deaths_global.csv')\n",
    "    return confirmed_df, recovered_df, death_df"
   ]
  },
  {
   "cell_type": "markdown",
   "metadata": {},
   "source": [
    "Get each country's confirmed, recovered, death.\n",
    "The original data is not really a time series data, we have to do some special handling.\n",
    "Some countries report data at the city level, we have to take a sum for those to get the country level data."
   ]
  },
  {
   "cell_type": "code",
   "execution_count": 3,
   "metadata": {},
   "outputs": [],
   "source": [
    "def get_country_data(data, columnName, countryName):\n",
    "    country_data = data.loc[data['Country/Region'] == countryName]\n",
    "    country_time_series_only = country_data.drop([\"Province/State\", \"Country/Region\", \"Lat\", \"Long\"], axis=1)\n",
    "    transposed = country_time_series_only.transpose()\n",
    "    transposed = pd.DataFrame({\n",
    "        columnName: transposed.sum(axis=1)\n",
    "    })\n",
    "    return transposed"
   ]
  },
  {
   "cell_type": "markdown",
   "metadata": {},
   "source": [
    "Put the country's confirmed, recovered, death data together"
   ]
  },
  {
   "cell_type": "code",
   "execution_count": 4,
   "metadata": {},
   "outputs": [],
   "source": [
    "def get_country_confirmed_recovered_death_data(confirmed_df, recovered_df, death_df, countryName):\n",
    "    country_confirmed = get_country_data(confirmed_df, \"Confirmed\", countryName)\n",
    "    country_recovered = get_country_data(recovered_df, \"Recovered\", countryName)\n",
    "    country_death = get_country_data(death_df, \"Death\", countryName)\n",
    "    country_all = country_confirmed\n",
    "    country_all[\"Recovered\"] = country_recovered.Recovered\n",
    "    country_all[\"Death\"] = country_death.Death\n",
    "    return country_all"
   ]
  },
  {
   "cell_type": "markdown",
   "metadata": {},
   "source": [
    "get the raw data"
   ]
  },
  {
   "cell_type": "code",
   "execution_count": 5,
   "metadata": {},
   "outputs": [],
   "source": [
    "confirmed_df, recovered_df, death_df = get_raw_date()"
   ]
  },
  {
   "cell_type": "code",
   "execution_count": 6,
   "metadata": {
    "scrolled": true
   },
   "outputs": [
    {
     "data": {
      "text/html": [
       "<div>\n",
       "<style scoped>\n",
       "    .dataframe tbody tr th:only-of-type {\n",
       "        vertical-align: middle;\n",
       "    }\n",
       "\n",
       "    .dataframe tbody tr th {\n",
       "        vertical-align: top;\n",
       "    }\n",
       "\n",
       "    .dataframe thead th {\n",
       "        text-align: right;\n",
       "    }\n",
       "</style>\n",
       "<table border=\"1\" class=\"dataframe\">\n",
       "  <thead>\n",
       "    <tr style=\"text-align: right;\">\n",
       "      <th></th>\n",
       "      <th>Province/State</th>\n",
       "      <th>Country/Region</th>\n",
       "      <th>Lat</th>\n",
       "      <th>Long</th>\n",
       "      <th>1/22/20</th>\n",
       "      <th>1/23/20</th>\n",
       "      <th>1/24/20</th>\n",
       "      <th>1/25/20</th>\n",
       "      <th>1/26/20</th>\n",
       "      <th>1/27/20</th>\n",
       "      <th>...</th>\n",
       "      <th>5/8/20</th>\n",
       "      <th>5/9/20</th>\n",
       "      <th>5/10/20</th>\n",
       "      <th>5/11/20</th>\n",
       "      <th>5/12/20</th>\n",
       "      <th>5/13/20</th>\n",
       "      <th>5/14/20</th>\n",
       "      <th>5/15/20</th>\n",
       "      <th>5/16/20</th>\n",
       "      <th>5/17/20</th>\n",
       "    </tr>\n",
       "  </thead>\n",
       "  <tbody>\n",
       "    <tr>\n",
       "      <th>0</th>\n",
       "      <td>NaN</td>\n",
       "      <td>Afghanistan</td>\n",
       "      <td>33.000000</td>\n",
       "      <td>65.000000</td>\n",
       "      <td>0</td>\n",
       "      <td>0</td>\n",
       "      <td>0</td>\n",
       "      <td>0</td>\n",
       "      <td>0</td>\n",
       "      <td>0</td>\n",
       "      <td>...</td>\n",
       "      <td>3778</td>\n",
       "      <td>4033</td>\n",
       "      <td>4402</td>\n",
       "      <td>4687</td>\n",
       "      <td>4963</td>\n",
       "      <td>5226</td>\n",
       "      <td>5639</td>\n",
       "      <td>6053</td>\n",
       "      <td>6402</td>\n",
       "      <td>6664</td>\n",
       "    </tr>\n",
       "    <tr>\n",
       "      <th>1</th>\n",
       "      <td>NaN</td>\n",
       "      <td>Albania</td>\n",
       "      <td>41.153300</td>\n",
       "      <td>20.168300</td>\n",
       "      <td>0</td>\n",
       "      <td>0</td>\n",
       "      <td>0</td>\n",
       "      <td>0</td>\n",
       "      <td>0</td>\n",
       "      <td>0</td>\n",
       "      <td>...</td>\n",
       "      <td>850</td>\n",
       "      <td>856</td>\n",
       "      <td>868</td>\n",
       "      <td>872</td>\n",
       "      <td>876</td>\n",
       "      <td>880</td>\n",
       "      <td>898</td>\n",
       "      <td>916</td>\n",
       "      <td>933</td>\n",
       "      <td>946</td>\n",
       "    </tr>\n",
       "    <tr>\n",
       "      <th>2</th>\n",
       "      <td>NaN</td>\n",
       "      <td>Algeria</td>\n",
       "      <td>28.033900</td>\n",
       "      <td>1.659600</td>\n",
       "      <td>0</td>\n",
       "      <td>0</td>\n",
       "      <td>0</td>\n",
       "      <td>0</td>\n",
       "      <td>0</td>\n",
       "      <td>0</td>\n",
       "      <td>...</td>\n",
       "      <td>5369</td>\n",
       "      <td>5558</td>\n",
       "      <td>5723</td>\n",
       "      <td>5891</td>\n",
       "      <td>6067</td>\n",
       "      <td>6253</td>\n",
       "      <td>6442</td>\n",
       "      <td>6629</td>\n",
       "      <td>6821</td>\n",
       "      <td>7019</td>\n",
       "    </tr>\n",
       "    <tr>\n",
       "      <th>3</th>\n",
       "      <td>NaN</td>\n",
       "      <td>Andorra</td>\n",
       "      <td>42.506300</td>\n",
       "      <td>1.521800</td>\n",
       "      <td>0</td>\n",
       "      <td>0</td>\n",
       "      <td>0</td>\n",
       "      <td>0</td>\n",
       "      <td>0</td>\n",
       "      <td>0</td>\n",
       "      <td>...</td>\n",
       "      <td>752</td>\n",
       "      <td>754</td>\n",
       "      <td>755</td>\n",
       "      <td>755</td>\n",
       "      <td>758</td>\n",
       "      <td>760</td>\n",
       "      <td>761</td>\n",
       "      <td>761</td>\n",
       "      <td>761</td>\n",
       "      <td>761</td>\n",
       "    </tr>\n",
       "    <tr>\n",
       "      <th>4</th>\n",
       "      <td>NaN</td>\n",
       "      <td>Angola</td>\n",
       "      <td>-11.202700</td>\n",
       "      <td>17.873900</td>\n",
       "      <td>0</td>\n",
       "      <td>0</td>\n",
       "      <td>0</td>\n",
       "      <td>0</td>\n",
       "      <td>0</td>\n",
       "      <td>0</td>\n",
       "      <td>...</td>\n",
       "      <td>43</td>\n",
       "      <td>43</td>\n",
       "      <td>45</td>\n",
       "      <td>45</td>\n",
       "      <td>45</td>\n",
       "      <td>45</td>\n",
       "      <td>48</td>\n",
       "      <td>48</td>\n",
       "      <td>48</td>\n",
       "      <td>48</td>\n",
       "    </tr>\n",
       "    <tr>\n",
       "      <th>...</th>\n",
       "      <td>...</td>\n",
       "      <td>...</td>\n",
       "      <td>...</td>\n",
       "      <td>...</td>\n",
       "      <td>...</td>\n",
       "      <td>...</td>\n",
       "      <td>...</td>\n",
       "      <td>...</td>\n",
       "      <td>...</td>\n",
       "      <td>...</td>\n",
       "      <td>...</td>\n",
       "      <td>...</td>\n",
       "      <td>...</td>\n",
       "      <td>...</td>\n",
       "      <td>...</td>\n",
       "      <td>...</td>\n",
       "      <td>...</td>\n",
       "      <td>...</td>\n",
       "      <td>...</td>\n",
       "      <td>...</td>\n",
       "      <td>...</td>\n",
       "    </tr>\n",
       "    <tr>\n",
       "      <th>261</th>\n",
       "      <td>NaN</td>\n",
       "      <td>Sao Tome and Principe</td>\n",
       "      <td>0.186360</td>\n",
       "      <td>6.613081</td>\n",
       "      <td>0</td>\n",
       "      <td>0</td>\n",
       "      <td>0</td>\n",
       "      <td>0</td>\n",
       "      <td>0</td>\n",
       "      <td>0</td>\n",
       "      <td>...</td>\n",
       "      <td>208</td>\n",
       "      <td>208</td>\n",
       "      <td>208</td>\n",
       "      <td>208</td>\n",
       "      <td>208</td>\n",
       "      <td>220</td>\n",
       "      <td>235</td>\n",
       "      <td>235</td>\n",
       "      <td>235</td>\n",
       "      <td>235</td>\n",
       "    </tr>\n",
       "    <tr>\n",
       "      <th>262</th>\n",
       "      <td>NaN</td>\n",
       "      <td>Yemen</td>\n",
       "      <td>15.552727</td>\n",
       "      <td>48.516388</td>\n",
       "      <td>0</td>\n",
       "      <td>0</td>\n",
       "      <td>0</td>\n",
       "      <td>0</td>\n",
       "      <td>0</td>\n",
       "      <td>0</td>\n",
       "      <td>...</td>\n",
       "      <td>34</td>\n",
       "      <td>34</td>\n",
       "      <td>51</td>\n",
       "      <td>56</td>\n",
       "      <td>65</td>\n",
       "      <td>70</td>\n",
       "      <td>85</td>\n",
       "      <td>106</td>\n",
       "      <td>122</td>\n",
       "      <td>128</td>\n",
       "    </tr>\n",
       "    <tr>\n",
       "      <th>263</th>\n",
       "      <td>NaN</td>\n",
       "      <td>Comoros</td>\n",
       "      <td>-11.645500</td>\n",
       "      <td>43.333300</td>\n",
       "      <td>0</td>\n",
       "      <td>0</td>\n",
       "      <td>0</td>\n",
       "      <td>0</td>\n",
       "      <td>0</td>\n",
       "      <td>0</td>\n",
       "      <td>...</td>\n",
       "      <td>8</td>\n",
       "      <td>11</td>\n",
       "      <td>11</td>\n",
       "      <td>11</td>\n",
       "      <td>11</td>\n",
       "      <td>11</td>\n",
       "      <td>11</td>\n",
       "      <td>11</td>\n",
       "      <td>11</td>\n",
       "      <td>11</td>\n",
       "    </tr>\n",
       "    <tr>\n",
       "      <th>264</th>\n",
       "      <td>NaN</td>\n",
       "      <td>Tajikistan</td>\n",
       "      <td>38.861034</td>\n",
       "      <td>71.276093</td>\n",
       "      <td>0</td>\n",
       "      <td>0</td>\n",
       "      <td>0</td>\n",
       "      <td>0</td>\n",
       "      <td>0</td>\n",
       "      <td>0</td>\n",
       "      <td>...</td>\n",
       "      <td>522</td>\n",
       "      <td>612</td>\n",
       "      <td>612</td>\n",
       "      <td>661</td>\n",
       "      <td>729</td>\n",
       "      <td>801</td>\n",
       "      <td>907</td>\n",
       "      <td>1118</td>\n",
       "      <td>1322</td>\n",
       "      <td>1524</td>\n",
       "    </tr>\n",
       "    <tr>\n",
       "      <th>265</th>\n",
       "      <td>NaN</td>\n",
       "      <td>Lesotho</td>\n",
       "      <td>-29.609988</td>\n",
       "      <td>28.233608</td>\n",
       "      <td>0</td>\n",
       "      <td>0</td>\n",
       "      <td>0</td>\n",
       "      <td>0</td>\n",
       "      <td>0</td>\n",
       "      <td>0</td>\n",
       "      <td>...</td>\n",
       "      <td>0</td>\n",
       "      <td>0</td>\n",
       "      <td>0</td>\n",
       "      <td>0</td>\n",
       "      <td>0</td>\n",
       "      <td>1</td>\n",
       "      <td>1</td>\n",
       "      <td>1</td>\n",
       "      <td>1</td>\n",
       "      <td>1</td>\n",
       "    </tr>\n",
       "  </tbody>\n",
       "</table>\n",
       "<p>266 rows × 121 columns</p>\n",
       "</div>"
      ],
      "text/plain": [
       "    Province/State         Country/Region        Lat       Long  1/22/20  \\\n",
       "0              NaN            Afghanistan  33.000000  65.000000        0   \n",
       "1              NaN                Albania  41.153300  20.168300        0   \n",
       "2              NaN                Algeria  28.033900   1.659600        0   \n",
       "3              NaN                Andorra  42.506300   1.521800        0   \n",
       "4              NaN                 Angola -11.202700  17.873900        0   \n",
       "..             ...                    ...        ...        ...      ...   \n",
       "261            NaN  Sao Tome and Principe   0.186360   6.613081        0   \n",
       "262            NaN                  Yemen  15.552727  48.516388        0   \n",
       "263            NaN                Comoros -11.645500  43.333300        0   \n",
       "264            NaN             Tajikistan  38.861034  71.276093        0   \n",
       "265            NaN                Lesotho -29.609988  28.233608        0   \n",
       "\n",
       "     1/23/20  1/24/20  1/25/20  1/26/20  1/27/20  ...  5/8/20  5/9/20  \\\n",
       "0          0        0        0        0        0  ...    3778    4033   \n",
       "1          0        0        0        0        0  ...     850     856   \n",
       "2          0        0        0        0        0  ...    5369    5558   \n",
       "3          0        0        0        0        0  ...     752     754   \n",
       "4          0        0        0        0        0  ...      43      43   \n",
       "..       ...      ...      ...      ...      ...  ...     ...     ...   \n",
       "261        0        0        0        0        0  ...     208     208   \n",
       "262        0        0        0        0        0  ...      34      34   \n",
       "263        0        0        0        0        0  ...       8      11   \n",
       "264        0        0        0        0        0  ...     522     612   \n",
       "265        0        0        0        0        0  ...       0       0   \n",
       "\n",
       "     5/10/20  5/11/20  5/12/20  5/13/20  5/14/20  5/15/20  5/16/20  5/17/20  \n",
       "0       4402     4687     4963     5226     5639     6053     6402     6664  \n",
       "1        868      872      876      880      898      916      933      946  \n",
       "2       5723     5891     6067     6253     6442     6629     6821     7019  \n",
       "3        755      755      758      760      761      761      761      761  \n",
       "4         45       45       45       45       48       48       48       48  \n",
       "..       ...      ...      ...      ...      ...      ...      ...      ...  \n",
       "261      208      208      208      220      235      235      235      235  \n",
       "262       51       56       65       70       85      106      122      128  \n",
       "263       11       11       11       11       11       11       11       11  \n",
       "264      612      661      729      801      907     1118     1322     1524  \n",
       "265        0        0        0        1        1        1        1        1  \n",
       "\n",
       "[266 rows x 121 columns]"
      ]
     },
     "execution_count": 6,
     "metadata": {},
     "output_type": "execute_result"
    }
   ],
   "source": [
    "confirmed_df"
   ]
  },
  {
   "cell_type": "code",
   "execution_count": 7,
   "metadata": {},
   "outputs": [
    {
     "data": {
      "text/plain": [
       "'5/17/20'"
      ]
     },
     "execution_count": 7,
     "metadata": {},
     "output_type": "execute_result"
    }
   ],
   "source": [
    "last_reported_data = confirmed_df.columns[-1]\n",
    "last_reported_data"
   ]
  },
  {
   "cell_type": "markdown",
   "metadata": {},
   "source": [
    "List of countries with cases above 10k"
   ]
  },
  {
   "cell_type": "code",
   "execution_count": 8,
   "metadata": {},
   "outputs": [
    {
     "data": {
      "text/html": [
       "<div>\n",
       "<style scoped>\n",
       "    .dataframe tbody tr th:only-of-type {\n",
       "        vertical-align: middle;\n",
       "    }\n",
       "\n",
       "    .dataframe tbody tr th {\n",
       "        vertical-align: top;\n",
       "    }\n",
       "\n",
       "    .dataframe thead th {\n",
       "        text-align: right;\n",
       "    }\n",
       "</style>\n",
       "<table border=\"1\" class=\"dataframe\">\n",
       "  <thead>\n",
       "    <tr style=\"text-align: right;\">\n",
       "      <th></th>\n",
       "      <th>Country/Region</th>\n",
       "      <th>5/17/20</th>\n",
       "    </tr>\n",
       "  </thead>\n",
       "  <tbody>\n",
       "    <tr>\n",
       "      <th>16</th>\n",
       "      <td>Austria</td>\n",
       "      <td>16242</td>\n",
       "    </tr>\n",
       "    <tr>\n",
       "      <th>20</th>\n",
       "      <td>Bangladesh</td>\n",
       "      <td>22268</td>\n",
       "    </tr>\n",
       "    <tr>\n",
       "      <th>22</th>\n",
       "      <td>Belarus</td>\n",
       "      <td>29650</td>\n",
       "    </tr>\n",
       "    <tr>\n",
       "      <th>23</th>\n",
       "      <td>Belgium</td>\n",
       "      <td>55280</td>\n",
       "    </tr>\n",
       "    <tr>\n",
       "      <th>28</th>\n",
       "      <td>Brazil</td>\n",
       "      <td>241080</td>\n",
       "    </tr>\n",
       "    <tr>\n",
       "      <th>42</th>\n",
       "      <td>Canada</td>\n",
       "      <td>23974</td>\n",
       "    </tr>\n",
       "    <tr>\n",
       "      <th>44</th>\n",
       "      <td>Canada</td>\n",
       "      <td>42928</td>\n",
       "    </tr>\n",
       "    <tr>\n",
       "      <th>48</th>\n",
       "      <td>Chile</td>\n",
       "      <td>43781</td>\n",
       "    </tr>\n",
       "    <tr>\n",
       "      <th>62</th>\n",
       "      <td>China</td>\n",
       "      <td>68134</td>\n",
       "    </tr>\n",
       "    <tr>\n",
       "      <th>82</th>\n",
       "      <td>Colombia</td>\n",
       "      <td>15574</td>\n",
       "    </tr>\n",
       "    <tr>\n",
       "      <th>94</th>\n",
       "      <td>Denmark</td>\n",
       "      <td>10927</td>\n",
       "    </tr>\n",
       "    <tr>\n",
       "      <th>96</th>\n",
       "      <td>Dominican Republic</td>\n",
       "      <td>12314</td>\n",
       "    </tr>\n",
       "    <tr>\n",
       "      <th>97</th>\n",
       "      <td>Ecuador</td>\n",
       "      <td>33182</td>\n",
       "    </tr>\n",
       "    <tr>\n",
       "      <th>98</th>\n",
       "      <td>Egypt</td>\n",
       "      <td>12229</td>\n",
       "    </tr>\n",
       "    <tr>\n",
       "      <th>116</th>\n",
       "      <td>France</td>\n",
       "      <td>177240</td>\n",
       "    </tr>\n",
       "    <tr>\n",
       "      <th>120</th>\n",
       "      <td>Germany</td>\n",
       "      <td>176369</td>\n",
       "    </tr>\n",
       "    <tr>\n",
       "      <th>131</th>\n",
       "      <td>India</td>\n",
       "      <td>95698</td>\n",
       "    </tr>\n",
       "    <tr>\n",
       "      <th>132</th>\n",
       "      <td>Indonesia</td>\n",
       "      <td>17514</td>\n",
       "    </tr>\n",
       "    <tr>\n",
       "      <th>133</th>\n",
       "      <td>Iran</td>\n",
       "      <td>120198</td>\n",
       "    </tr>\n",
       "    <tr>\n",
       "      <th>135</th>\n",
       "      <td>Ireland</td>\n",
       "      <td>24112</td>\n",
       "    </tr>\n",
       "    <tr>\n",
       "      <th>136</th>\n",
       "      <td>Israel</td>\n",
       "      <td>16617</td>\n",
       "    </tr>\n",
       "    <tr>\n",
       "      <th>137</th>\n",
       "      <td>Italy</td>\n",
       "      <td>225435</td>\n",
       "    </tr>\n",
       "    <tr>\n",
       "      <th>139</th>\n",
       "      <td>Japan</td>\n",
       "      <td>16285</td>\n",
       "    </tr>\n",
       "    <tr>\n",
       "      <th>143</th>\n",
       "      <td>Korea, South</td>\n",
       "      <td>11065</td>\n",
       "    </tr>\n",
       "    <tr>\n",
       "      <th>144</th>\n",
       "      <td>Kuwait</td>\n",
       "      <td>14850</td>\n",
       "    </tr>\n",
       "    <tr>\n",
       "      <th>158</th>\n",
       "      <td>Mexico</td>\n",
       "      <td>49219</td>\n",
       "    </tr>\n",
       "    <tr>\n",
       "      <th>169</th>\n",
       "      <td>Netherlands</td>\n",
       "      <td>43995</td>\n",
       "    </tr>\n",
       "    <tr>\n",
       "      <th>177</th>\n",
       "      <td>Pakistan</td>\n",
       "      <td>40151</td>\n",
       "    </tr>\n",
       "    <tr>\n",
       "      <th>181</th>\n",
       "      <td>Peru</td>\n",
       "      <td>92273</td>\n",
       "    </tr>\n",
       "    <tr>\n",
       "      <th>182</th>\n",
       "      <td>Philippines</td>\n",
       "      <td>12513</td>\n",
       "    </tr>\n",
       "    <tr>\n",
       "      <th>183</th>\n",
       "      <td>Poland</td>\n",
       "      <td>18529</td>\n",
       "    </tr>\n",
       "    <tr>\n",
       "      <th>184</th>\n",
       "      <td>Portugal</td>\n",
       "      <td>29036</td>\n",
       "    </tr>\n",
       "    <tr>\n",
       "      <th>185</th>\n",
       "      <td>Qatar</td>\n",
       "      <td>32604</td>\n",
       "    </tr>\n",
       "    <tr>\n",
       "      <th>186</th>\n",
       "      <td>Romania</td>\n",
       "      <td>16871</td>\n",
       "    </tr>\n",
       "    <tr>\n",
       "      <th>187</th>\n",
       "      <td>Russia</td>\n",
       "      <td>281752</td>\n",
       "    </tr>\n",
       "    <tr>\n",
       "      <th>192</th>\n",
       "      <td>Saudi Arabia</td>\n",
       "      <td>54752</td>\n",
       "    </tr>\n",
       "    <tr>\n",
       "      <th>194</th>\n",
       "      <td>Serbia</td>\n",
       "      <td>10610</td>\n",
       "    </tr>\n",
       "    <tr>\n",
       "      <th>196</th>\n",
       "      <td>Singapore</td>\n",
       "      <td>28038</td>\n",
       "    </tr>\n",
       "    <tr>\n",
       "      <th>200</th>\n",
       "      <td>South Africa</td>\n",
       "      <td>15515</td>\n",
       "    </tr>\n",
       "    <tr>\n",
       "      <th>201</th>\n",
       "      <td>Spain</td>\n",
       "      <td>230698</td>\n",
       "    </tr>\n",
       "    <tr>\n",
       "      <th>205</th>\n",
       "      <td>Sweden</td>\n",
       "      <td>30143</td>\n",
       "    </tr>\n",
       "    <tr>\n",
       "      <th>206</th>\n",
       "      <td>Switzerland</td>\n",
       "      <td>30587</td>\n",
       "    </tr>\n",
       "    <tr>\n",
       "      <th>213</th>\n",
       "      <td>Turkey</td>\n",
       "      <td>149435</td>\n",
       "    </tr>\n",
       "    <tr>\n",
       "      <th>215</th>\n",
       "      <td>Ukraine</td>\n",
       "      <td>18291</td>\n",
       "    </tr>\n",
       "    <tr>\n",
       "      <th>216</th>\n",
       "      <td>United Arab Emirates</td>\n",
       "      <td>23358</td>\n",
       "    </tr>\n",
       "    <tr>\n",
       "      <th>223</th>\n",
       "      <td>United Kingdom</td>\n",
       "      <td>243695</td>\n",
       "    </tr>\n",
       "    <tr>\n",
       "      <th>225</th>\n",
       "      <td>US</td>\n",
       "      <td>1486757</td>\n",
       "    </tr>\n",
       "  </tbody>\n",
       "</table>\n",
       "</div>"
      ],
      "text/plain": [
       "           Country/Region  5/17/20\n",
       "16                Austria    16242\n",
       "20             Bangladesh    22268\n",
       "22                Belarus    29650\n",
       "23                Belgium    55280\n",
       "28                 Brazil   241080\n",
       "42                 Canada    23974\n",
       "44                 Canada    42928\n",
       "48                  Chile    43781\n",
       "62                  China    68134\n",
       "82               Colombia    15574\n",
       "94                Denmark    10927\n",
       "96     Dominican Republic    12314\n",
       "97                Ecuador    33182\n",
       "98                  Egypt    12229\n",
       "116                France   177240\n",
       "120               Germany   176369\n",
       "131                 India    95698\n",
       "132             Indonesia    17514\n",
       "133                  Iran   120198\n",
       "135               Ireland    24112\n",
       "136                Israel    16617\n",
       "137                 Italy   225435\n",
       "139                 Japan    16285\n",
       "143          Korea, South    11065\n",
       "144                Kuwait    14850\n",
       "158                Mexico    49219\n",
       "169           Netherlands    43995\n",
       "177              Pakistan    40151\n",
       "181                  Peru    92273\n",
       "182           Philippines    12513\n",
       "183                Poland    18529\n",
       "184              Portugal    29036\n",
       "185                 Qatar    32604\n",
       "186               Romania    16871\n",
       "187                Russia   281752\n",
       "192          Saudi Arabia    54752\n",
       "194                Serbia    10610\n",
       "196             Singapore    28038\n",
       "200          South Africa    15515\n",
       "201                 Spain   230698\n",
       "205                Sweden    30143\n",
       "206           Switzerland    30587\n",
       "213                Turkey   149435\n",
       "215               Ukraine    18291\n",
       "216  United Arab Emirates    23358\n",
       "223        United Kingdom   243695\n",
       "225                    US  1486757"
      ]
     },
     "execution_count": 8,
     "metadata": {},
     "output_type": "execute_result"
    }
   ],
   "source": [
    "confirmed_df[confirmed_df[last_reported_data] >= 10000].loc[:, ['Country/Region',last_reported_data]]"
   ]
  },
  {
   "cell_type": "markdown",
   "metadata": {},
   "source": [
    "Get the data for the following countries:\n",
    " - US\n",
    " - Italy\n",
    " - China\n",
    " - France\n",
    " - Spain"
   ]
  },
  {
   "cell_type": "code",
   "execution_count": 9,
   "metadata": {},
   "outputs": [
    {
     "data": {
      "text/plain": [
       "['US', 'Italy', 'China', 'France', 'Spain']"
      ]
     },
     "execution_count": 9,
     "metadata": {},
     "output_type": "execute_result"
    }
   ],
   "source": [
    "countries = list()\n",
    "countries.append(\"US\")\n",
    "countries.append(\"Italy\")\n",
    "countries.append(\"China\")\n",
    "countries.append(\"France\")\n",
    "countries.append(\"Spain\")\n",
    "countries"
   ]
  },
  {
   "cell_type": "code",
   "execution_count": 10,
   "metadata": {
    "scrolled": false
   },
   "outputs": [
    {
     "data": {
      "text/html": [
       "<div>\n",
       "<style scoped>\n",
       "    .dataframe tbody tr th:only-of-type {\n",
       "        vertical-align: middle;\n",
       "    }\n",
       "\n",
       "    .dataframe tbody tr th {\n",
       "        vertical-align: top;\n",
       "    }\n",
       "\n",
       "    .dataframe thead th {\n",
       "        text-align: right;\n",
       "    }\n",
       "</style>\n",
       "<table border=\"1\" class=\"dataframe\">\n",
       "  <thead>\n",
       "    <tr style=\"text-align: right;\">\n",
       "      <th></th>\n",
       "      <th>US Confirmed</th>\n",
       "      <th>US Recovered</th>\n",
       "      <th>US Death</th>\n",
       "      <th>US Active</th>\n",
       "      <th>Italy Confirmed</th>\n",
       "      <th>Italy Recovered</th>\n",
       "      <th>Italy Death</th>\n",
       "      <th>Italy Active</th>\n",
       "      <th>China Confirmed</th>\n",
       "      <th>China Recovered</th>\n",
       "      <th>China Death</th>\n",
       "      <th>China Active</th>\n",
       "      <th>France Confirmed</th>\n",
       "      <th>France Recovered</th>\n",
       "      <th>France Death</th>\n",
       "      <th>France Active</th>\n",
       "      <th>Spain Confirmed</th>\n",
       "      <th>Spain Recovered</th>\n",
       "      <th>Spain Death</th>\n",
       "      <th>Spain Active</th>\n",
       "    </tr>\n",
       "  </thead>\n",
       "  <tbody>\n",
       "    <tr>\n",
       "      <th>5/8/20</th>\n",
       "      <td>1283929</td>\n",
       "      <td>198993</td>\n",
       "      <td>77180</td>\n",
       "      <td>1007756</td>\n",
       "      <td>217185</td>\n",
       "      <td>99023</td>\n",
       "      <td>30201</td>\n",
       "      <td>87961</td>\n",
       "      <td>83976</td>\n",
       "      <td>78993</td>\n",
       "      <td>4637</td>\n",
       "      <td>346</td>\n",
       "      <td>176202</td>\n",
       "      <td>55892</td>\n",
       "      <td>26233</td>\n",
       "      <td>94077</td>\n",
       "      <td>222857</td>\n",
       "      <td>131148</td>\n",
       "      <td>26299</td>\n",
       "      <td>65410</td>\n",
       "    </tr>\n",
       "    <tr>\n",
       "      <th>5/9/20</th>\n",
       "      <td>1309550</td>\n",
       "      <td>212534</td>\n",
       "      <td>78795</td>\n",
       "      <td>1018221</td>\n",
       "      <td>218268</td>\n",
       "      <td>103031</td>\n",
       "      <td>30395</td>\n",
       "      <td>84842</td>\n",
       "      <td>83990</td>\n",
       "      <td>79127</td>\n",
       "      <td>4637</td>\n",
       "      <td>226</td>\n",
       "      <td>176782</td>\n",
       "      <td>56148</td>\n",
       "      <td>26313</td>\n",
       "      <td>94321</td>\n",
       "      <td>223578</td>\n",
       "      <td>133952</td>\n",
       "      <td>26478</td>\n",
       "      <td>63148</td>\n",
       "    </tr>\n",
       "    <tr>\n",
       "      <th>5/10/20</th>\n",
       "      <td>1329260</td>\n",
       "      <td>216169</td>\n",
       "      <td>79526</td>\n",
       "      <td>1033565</td>\n",
       "      <td>219070</td>\n",
       "      <td>105186</td>\n",
       "      <td>30560</td>\n",
       "      <td>83324</td>\n",
       "      <td>84010</td>\n",
       "      <td>79167</td>\n",
       "      <td>4637</td>\n",
       "      <td>206</td>\n",
       "      <td>177094</td>\n",
       "      <td>56327</td>\n",
       "      <td>26383</td>\n",
       "      <td>94384</td>\n",
       "      <td>224350</td>\n",
       "      <td>136166</td>\n",
       "      <td>26621</td>\n",
       "      <td>61563</td>\n",
       "    </tr>\n",
       "    <tr>\n",
       "      <th>5/11/20</th>\n",
       "      <td>1347881</td>\n",
       "      <td>232733</td>\n",
       "      <td>80682</td>\n",
       "      <td>1034466</td>\n",
       "      <td>219814</td>\n",
       "      <td>106587</td>\n",
       "      <td>30739</td>\n",
       "      <td>82488</td>\n",
       "      <td>84011</td>\n",
       "      <td>79198</td>\n",
       "      <td>4637</td>\n",
       "      <td>176</td>\n",
       "      <td>177547</td>\n",
       "      <td>56835</td>\n",
       "      <td>26646</td>\n",
       "      <td>94066</td>\n",
       "      <td>227436</td>\n",
       "      <td>137139</td>\n",
       "      <td>26744</td>\n",
       "      <td>63553</td>\n",
       "    </tr>\n",
       "    <tr>\n",
       "      <th>5/12/20</th>\n",
       "      <td>1369376</td>\n",
       "      <td>230287</td>\n",
       "      <td>82356</td>\n",
       "      <td>1056733</td>\n",
       "      <td>221216</td>\n",
       "      <td>109039</td>\n",
       "      <td>30911</td>\n",
       "      <td>81266</td>\n",
       "      <td>84018</td>\n",
       "      <td>79222</td>\n",
       "      <td>4637</td>\n",
       "      <td>159</td>\n",
       "      <td>178349</td>\n",
       "      <td>57898</td>\n",
       "      <td>26994</td>\n",
       "      <td>93457</td>\n",
       "      <td>228030</td>\n",
       "      <td>138980</td>\n",
       "      <td>26920</td>\n",
       "      <td>62130</td>\n",
       "    </tr>\n",
       "    <tr>\n",
       "      <th>5/13/20</th>\n",
       "      <td>1390406</td>\n",
       "      <td>243430</td>\n",
       "      <td>84119</td>\n",
       "      <td>1062857</td>\n",
       "      <td>222104</td>\n",
       "      <td>112541</td>\n",
       "      <td>31106</td>\n",
       "      <td>78457</td>\n",
       "      <td>84024</td>\n",
       "      <td>79246</td>\n",
       "      <td>4637</td>\n",
       "      <td>141</td>\n",
       "      <td>178184</td>\n",
       "      <td>58786</td>\n",
       "      <td>27077</td>\n",
       "      <td>92321</td>\n",
       "      <td>228691</td>\n",
       "      <td>140823</td>\n",
       "      <td>27104</td>\n",
       "      <td>60764</td>\n",
       "    </tr>\n",
       "    <tr>\n",
       "      <th>5/14/20</th>\n",
       "      <td>1417774</td>\n",
       "      <td>246414</td>\n",
       "      <td>85898</td>\n",
       "      <td>1085462</td>\n",
       "      <td>223096</td>\n",
       "      <td>115288</td>\n",
       "      <td>31368</td>\n",
       "      <td>76440</td>\n",
       "      <td>84029</td>\n",
       "      <td>79261</td>\n",
       "      <td>4637</td>\n",
       "      <td>131</td>\n",
       "      <td>178994</td>\n",
       "      <td>59719</td>\n",
       "      <td>27428</td>\n",
       "      <td>91847</td>\n",
       "      <td>229540</td>\n",
       "      <td>143374</td>\n",
       "      <td>27321</td>\n",
       "      <td>58845</td>\n",
       "    </tr>\n",
       "    <tr>\n",
       "      <th>5/15/20</th>\n",
       "      <td>1442824</td>\n",
       "      <td>250747</td>\n",
       "      <td>87530</td>\n",
       "      <td>1104547</td>\n",
       "      <td>223885</td>\n",
       "      <td>120205</td>\n",
       "      <td>31610</td>\n",
       "      <td>72070</td>\n",
       "      <td>84038</td>\n",
       "      <td>79281</td>\n",
       "      <td>4637</td>\n",
       "      <td>120</td>\n",
       "      <td>179630</td>\n",
       "      <td>60562</td>\n",
       "      <td>27532</td>\n",
       "      <td>91536</td>\n",
       "      <td>230183</td>\n",
       "      <td>144783</td>\n",
       "      <td>27459</td>\n",
       "      <td>57941</td>\n",
       "    </tr>\n",
       "    <tr>\n",
       "      <th>5/16/20</th>\n",
       "      <td>1467820</td>\n",
       "      <td>268376</td>\n",
       "      <td>88754</td>\n",
       "      <td>1110690</td>\n",
       "      <td>224760</td>\n",
       "      <td>122810</td>\n",
       "      <td>31763</td>\n",
       "      <td>70187</td>\n",
       "      <td>84044</td>\n",
       "      <td>79293</td>\n",
       "      <td>4638</td>\n",
       "      <td>113</td>\n",
       "      <td>179630</td>\n",
       "      <td>60562</td>\n",
       "      <td>27532</td>\n",
       "      <td>91536</td>\n",
       "      <td>230698</td>\n",
       "      <td>146446</td>\n",
       "      <td>27563</td>\n",
       "      <td>56689</td>\n",
       "    </tr>\n",
       "    <tr>\n",
       "      <th>5/17/20</th>\n",
       "      <td>1486757</td>\n",
       "      <td>272265</td>\n",
       "      <td>89562</td>\n",
       "      <td>1124930</td>\n",
       "      <td>225435</td>\n",
       "      <td>125176</td>\n",
       "      <td>31908</td>\n",
       "      <td>68351</td>\n",
       "      <td>84054</td>\n",
       "      <td>79306</td>\n",
       "      <td>4638</td>\n",
       "      <td>110</td>\n",
       "      <td>179693</td>\n",
       "      <td>61327</td>\n",
       "      <td>28111</td>\n",
       "      <td>90255</td>\n",
       "      <td>230698</td>\n",
       "      <td>146446</td>\n",
       "      <td>27563</td>\n",
       "      <td>56689</td>\n",
       "    </tr>\n",
       "  </tbody>\n",
       "</table>\n",
       "</div>"
      ],
      "text/plain": [
       "         US Confirmed  US Recovered  US Death  US Active  Italy Confirmed  \\\n",
       "5/8/20        1283929        198993     77180    1007756           217185   \n",
       "5/9/20        1309550        212534     78795    1018221           218268   \n",
       "5/10/20       1329260        216169     79526    1033565           219070   \n",
       "5/11/20       1347881        232733     80682    1034466           219814   \n",
       "5/12/20       1369376        230287     82356    1056733           221216   \n",
       "5/13/20       1390406        243430     84119    1062857           222104   \n",
       "5/14/20       1417774        246414     85898    1085462           223096   \n",
       "5/15/20       1442824        250747     87530    1104547           223885   \n",
       "5/16/20       1467820        268376     88754    1110690           224760   \n",
       "5/17/20       1486757        272265     89562    1124930           225435   \n",
       "\n",
       "         Italy Recovered  Italy Death  Italy Active  China Confirmed  \\\n",
       "5/8/20             99023        30201         87961            83976   \n",
       "5/9/20            103031        30395         84842            83990   \n",
       "5/10/20           105186        30560         83324            84010   \n",
       "5/11/20           106587        30739         82488            84011   \n",
       "5/12/20           109039        30911         81266            84018   \n",
       "5/13/20           112541        31106         78457            84024   \n",
       "5/14/20           115288        31368         76440            84029   \n",
       "5/15/20           120205        31610         72070            84038   \n",
       "5/16/20           122810        31763         70187            84044   \n",
       "5/17/20           125176        31908         68351            84054   \n",
       "\n",
       "         China Recovered  China Death  China Active  France Confirmed  \\\n",
       "5/8/20             78993         4637           346            176202   \n",
       "5/9/20             79127         4637           226            176782   \n",
       "5/10/20            79167         4637           206            177094   \n",
       "5/11/20            79198         4637           176            177547   \n",
       "5/12/20            79222         4637           159            178349   \n",
       "5/13/20            79246         4637           141            178184   \n",
       "5/14/20            79261         4637           131            178994   \n",
       "5/15/20            79281         4637           120            179630   \n",
       "5/16/20            79293         4638           113            179630   \n",
       "5/17/20            79306         4638           110            179693   \n",
       "\n",
       "         France Recovered  France Death  France Active  Spain Confirmed  \\\n",
       "5/8/20              55892         26233          94077           222857   \n",
       "5/9/20              56148         26313          94321           223578   \n",
       "5/10/20             56327         26383          94384           224350   \n",
       "5/11/20             56835         26646          94066           227436   \n",
       "5/12/20             57898         26994          93457           228030   \n",
       "5/13/20             58786         27077          92321           228691   \n",
       "5/14/20             59719         27428          91847           229540   \n",
       "5/15/20             60562         27532          91536           230183   \n",
       "5/16/20             60562         27532          91536           230698   \n",
       "5/17/20             61327         28111          90255           230698   \n",
       "\n",
       "         Spain Recovered  Spain Death  Spain Active  \n",
       "5/8/20            131148        26299         65410  \n",
       "5/9/20            133952        26478         63148  \n",
       "5/10/20           136166        26621         61563  \n",
       "5/11/20           137139        26744         63553  \n",
       "5/12/20           138980        26920         62130  \n",
       "5/13/20           140823        27104         60764  \n",
       "5/14/20           143374        27321         58845  \n",
       "5/15/20           144783        27459         57941  \n",
       "5/16/20           146446        27563         56689  \n",
       "5/17/20           146446        27563         56689  "
      ]
     },
     "execution_count": 10,
     "metadata": {},
     "output_type": "execute_result"
    }
   ],
   "source": [
    "combined_data = pd.DataFrame()\n",
    "for country in countries:\n",
    "    country_data = get_country_confirmed_recovered_death_data(confirmed_df, recovered_df, death_df, country)\n",
    "    combined_data[country + \" Confirmed\"] = country_data.Confirmed\n",
    "    combined_data[country + \" Recovered\"] = country_data.Recovered\n",
    "    combined_data[country + \" Death\"] = country_data.Death\n",
    "    combined_data[country + \" Active\"] = country_data.Confirmed - (country_data.Recovered + country_data.Death)\n",
    "# last 10 days\n",
    "combined_data.iloc[-10:]"
   ]
  },
  {
   "cell_type": "markdown",
   "metadata": {},
   "source": [
    "Plot all of the data, this is kind of messy."
   ]
  },
  {
   "cell_type": "code",
   "execution_count": 11,
   "metadata": {
    "scrolled": false
   },
   "outputs": [
    {
     "data": {
      "text/plain": [
       "<matplotlib.legend.Legend at 0x7f42c8d54fd0>"
      ]
     },
     "execution_count": 11,
     "metadata": {},
     "output_type": "execute_result"
    },
    {
     "data": {
      "image/png": "[encoded data removed]",
      "text/plain": [
       "<Figure size 432x288 with 1 Axes>"
      ]
     },
     "metadata": {
      "needs_background": "light"
     },
     "output_type": "display_data"
    }
   ],
   "source": [
    "combined_data.plot().legend(loc='center left', bbox_to_anchor=(1.0, 0.5))"
   ]
  },
  {
   "cell_type": "markdown",
   "metadata": {},
   "source": [
    "Show the confirmed cases in these countries."
   ]
  },
  {
   "cell_type": "code",
   "execution_count": 12,
   "metadata": {
    "scrolled": true
   },
   "outputs": [
    {
     "data": {
      "text/plain": [
       "<matplotlib.axes._subplots.AxesSubplot at 0x7f42c547c780>"
      ]
     },
     "execution_count": 12,
     "metadata": {},
     "output_type": "execute_result"
    },
    {
     "data": {
      "image/png": "[encoded data removed]",
      "text/plain": [
       "<Figure size 432x288 with 1 Axes>"
      ]
     },
     "metadata": {
      "needs_background": "light"
     },
     "output_type": "display_data"
    }
   ],
   "source": [
    "pd.DataFrame({   \n",
    "    'US Confirmed': combined_data[\"US Confirmed\"],\n",
    "    'China Confirmed': combined_data[\"China Confirmed\"],\n",
    "    'Italy Confirmed': combined_data[\"Italy Confirmed\"],\n",
    "    'France Confirmed': combined_data[\"France Confirmed\"],\n",
    "    'Spain Confirmed': combined_data[\"Spain Confirmed\"]\n",
    "}).plot()"
   ]
  },
  {
   "cell_type": "markdown",
   "metadata": {},
   "source": [
    "Show the deaths in these countries."
   ]
  },
  {
   "cell_type": "code",
   "execution_count": 13,
   "metadata": {
    "scrolled": true
   },
   "outputs": [
    {
     "data": {
      "text/plain": [
       "<matplotlib.axes._subplots.AxesSubplot at 0x7f42c4d68ba8>"
      ]
     },
     "execution_count": 13,
     "metadata": {},
     "output_type": "execute_result"
    },
    {
     "data": {
      "image/png": "[encoded data removed]",
      "text/plain": [
       "<Figure size 432x288 with 1 Axes>"
      ]
     },
     "metadata": {
      "needs_background": "light"
     },
     "output_type": "display_data"
    }
   ],
   "source": [
    "pd.DataFrame({   \n",
    "    'US Death': combined_data[\"US Death\"],\n",
    "    'China Death': combined_data[\"China Death\"],\n",
    "    'Italy Death': combined_data[\"Italy Death\"],\n",
    "    'France Death': combined_data[\"France Death\"],\n",
    "    'Spain Death': combined_data[\"Spain Death\"]\n",
    "}).plot()"
   ]
  },
  {
   "cell_type": "markdown",
   "metadata": {},
   "source": [
    "Show the recovered cases in these countries."
   ]
  },
  {
   "cell_type": "code",
   "execution_count": 14,
   "metadata": {
    "scrolled": false
   },
   "outputs": [
    {
     "data": {
      "text/plain": [
       "<matplotlib.axes._subplots.AxesSubplot at 0x7f42c4cf7710>"
      ]
     },
     "execution_count": 14,
     "metadata": {},
     "output_type": "execute_result"
    },
    {
     "data": {
      "image/png": "[encoded data removed]",
      "text/plain": [
       "<Figure size 432x288 with 1 Axes>"
      ]
     },
     "metadata": {
      "needs_background": "light"
     },
     "output_type": "display_data"
    }
   ],
   "source": [
    "pd.DataFrame({   \n",
    "    'US Recovered': combined_data[\"US Recovered\"],\n",
    "    'China Recovered': combined_data[\"China Recovered\"],\n",
    "    'Italy Recovered': combined_data[\"Italy Recovered\"],\n",
    "    'France Recovered': combined_data[\"France Recovered\"],\n",
    "    'Spain Recovered': combined_data[\"Spain Recovered\"]\n",
    "}).plot()"
   ]
  },
  {
   "cell_type": "markdown",
   "metadata": {},
   "source": [
    "Looking at the active cases:\n",
    "    - active cases = confirmed - (recovered + death)"
   ]
  },
  {
   "cell_type": "code",
   "execution_count": 15,
   "metadata": {},
   "outputs": [
    {
     "data": {
      "text/plain": [
       "<matplotlib.axes._subplots.AxesSubplot at 0x7f42c4ce58d0>"
      ]
     },
     "execution_count": 15,
     "metadata": {},
     "output_type": "execute_result"
    },
    {
     "data": {
      "image/png": "[encoded data removed]",
      "text/plain": [
       "<Figure size 432x288 with 1 Axes>"
      ]
     },
     "metadata": {
      "needs_background": "light"
     },
     "output_type": "display_data"
    }
   ],
   "source": [
    "pd.DataFrame({   \n",
    "    'US Active': combined_data[\"US Active\"],\n",
    "    'China Active': combined_data[\"China Active\"],\n",
    "    'Italy Active': combined_data[\"Italy Active\"],\n",
    "    'France Active': combined_data[\"France Active\"],\n",
    "    'Spain Active': combined_data[\"Spain Active\"]\n",
    "}).plot()"
   ]
  },
  {
   "cell_type": "markdown",
   "metadata": {},
   "source": [
    "US recovered looks interesting, specially since March 22.\n",
    "Anti-malarial drugs hydroxychloroquine and chloroquine coming into play here?"
   ]
  },
  {
   "cell_type": "code",
   "execution_count": 16,
   "metadata": {},
   "outputs": [
    {
     "data": {
      "text/plain": [
       "<matplotlib.axes._subplots.AxesSubplot at 0x7f42c4c08ba8>"
      ]
     },
     "execution_count": 16,
     "metadata": {},
     "output_type": "execute_result"
    },
    {
     "data": {
      "image/png": "[encoded data removed]",
      "text/plain": [
       "<Figure size 432x288 with 1 Axes>"
      ]
     },
     "metadata": {
      "needs_background": "light"
     },
     "output_type": "display_data"
    }
   ],
   "source": [
    "pd.DataFrame({   \n",
    "    'US Recovered': combined_data[\"US Recovered\"]\n",
    "}).plot()"
   ]
  },
  {
   "cell_type": "code",
   "execution_count": 17,
   "metadata": {},
   "outputs": [],
   "source": [
    "# look for the doubling rate? - number of days to double the cases\n",
    "\n",
    "# predict the R-naught"
   ]
  },
  {
   "cell_type": "code",
   "execution_count": 18,
   "metadata": {},
   "outputs": [
    {
     "data": {
      "text/plain": [
       "Index(['US Confirmed', 'US Recovered', 'US Death', 'US Active',\n",
       "       'Italy Confirmed', 'Italy Recovered', 'Italy Death', 'Italy Active',\n",
       "       'China Confirmed', 'China Recovered', 'China Death', 'China Active',\n",
       "       'France Confirmed', 'France Recovered', 'France Death', 'France Active',\n",
       "       'Spain Confirmed', 'Spain Recovered', 'Spain Death', 'Spain Active'],\n",
       "      dtype='object')"
      ]
     },
     "execution_count": 18,
     "metadata": {},
     "output_type": "execute_result"
    }
   ],
   "source": [
    "combined_data.columns"
   ]
  },
  {
   "cell_type": "markdown",
   "metadata": {},
   "source": [
    "## Looking into US only data"
   ]
  },
  {
   "cell_type": "code",
   "execution_count": 19,
   "metadata": {},
   "outputs": [
    {
     "data": {
      "text/html": [
       "<div>\n",
       "<style scoped>\n",
       "    .dataframe tbody tr th:only-of-type {\n",
       "        vertical-align: middle;\n",
       "    }\n",
       "\n",
       "    .dataframe tbody tr th {\n",
       "        vertical-align: top;\n",
       "    }\n",
       "\n",
       "    .dataframe thead th {\n",
       "        text-align: right;\n",
       "    }\n",
       "</style>\n",
       "<table border=\"1\" class=\"dataframe\">\n",
       "  <thead>\n",
       "    <tr style=\"text-align: right;\">\n",
       "      <th></th>\n",
       "      <th>Confirmed</th>\n",
       "      <th>Recovered</th>\n",
       "      <th>Death</th>\n",
       "    </tr>\n",
       "  </thead>\n",
       "  <tbody>\n",
       "    <tr>\n",
       "      <th>1/22/20</th>\n",
       "      <td>1</td>\n",
       "      <td>0</td>\n",
       "      <td>0</td>\n",
       "    </tr>\n",
       "    <tr>\n",
       "      <th>1/23/20</th>\n",
       "      <td>1</td>\n",
       "      <td>0</td>\n",
       "      <td>0</td>\n",
       "    </tr>\n",
       "    <tr>\n",
       "      <th>1/24/20</th>\n",
       "      <td>2</td>\n",
       "      <td>0</td>\n",
       "      <td>0</td>\n",
       "    </tr>\n",
       "    <tr>\n",
       "      <th>1/25/20</th>\n",
       "      <td>2</td>\n",
       "      <td>0</td>\n",
       "      <td>0</td>\n",
       "    </tr>\n",
       "    <tr>\n",
       "      <th>1/26/20</th>\n",
       "      <td>5</td>\n",
       "      <td>0</td>\n",
       "      <td>0</td>\n",
       "    </tr>\n",
       "    <tr>\n",
       "      <th>...</th>\n",
       "      <td>...</td>\n",
       "      <td>...</td>\n",
       "      <td>...</td>\n",
       "    </tr>\n",
       "    <tr>\n",
       "      <th>5/13/20</th>\n",
       "      <td>1390406</td>\n",
       "      <td>243430</td>\n",
       "      <td>84119</td>\n",
       "    </tr>\n",
       "    <tr>\n",
       "      <th>5/14/20</th>\n",
       "      <td>1417774</td>\n",
       "      <td>246414</td>\n",
       "      <td>85898</td>\n",
       "    </tr>\n",
       "    <tr>\n",
       "      <th>5/15/20</th>\n",
       "      <td>1442824</td>\n",
       "      <td>250747</td>\n",
       "      <td>87530</td>\n",
       "    </tr>\n",
       "    <tr>\n",
       "      <th>5/16/20</th>\n",
       "      <td>1467820</td>\n",
       "      <td>268376</td>\n",
       "      <td>88754</td>\n",
       "    </tr>\n",
       "    <tr>\n",
       "      <th>5/17/20</th>\n",
       "      <td>1486757</td>\n",
       "      <td>272265</td>\n",
       "      <td>89562</td>\n",
       "    </tr>\n",
       "  </tbody>\n",
       "</table>\n",
       "<p>117 rows × 3 columns</p>\n",
       "</div>"
      ],
      "text/plain": [
       "         Confirmed  Recovered  Death\n",
       "1/22/20          1          0      0\n",
       "1/23/20          1          0      0\n",
       "1/24/20          2          0      0\n",
       "1/25/20          2          0      0\n",
       "1/26/20          5          0      0\n",
       "...            ...        ...    ...\n",
       "5/13/20    1390406     243430  84119\n",
       "5/14/20    1417774     246414  85898\n",
       "5/15/20    1442824     250747  87530\n",
       "5/16/20    1467820     268376  88754\n",
       "5/17/20    1486757     272265  89562\n",
       "\n",
       "[117 rows x 3 columns]"
      ]
     },
     "execution_count": 19,
     "metadata": {},
     "output_type": "execute_result"
    }
   ],
   "source": [
    "us_data = get_country_confirmed_recovered_death_data(confirmed_df, recovered_df, death_df, \"US\")\n",
    "us_data"
   ]
  },
  {
   "cell_type": "markdown",
   "metadata": {},
   "source": [
    "Last 14 days trend"
   ]
  },
  {
   "cell_type": "code",
   "execution_count": 20,
   "metadata": {},
   "outputs": [
    {
     "data": {
      "text/plain": [
       "<matplotlib.axes._subplots.AxesSubplot at 0x7f42c4b7aa58>"
      ]
     },
     "execution_count": 20,
     "metadata": {},
     "output_type": "execute_result"
    },
    {
     "data": {
      "image/png": "[encoded data removed]",
      "text/plain": [
       "<Figure size 432x288 with 1 Axes>"
      ]
     },
     "metadata": {
      "needs_background": "light"
     },
     "output_type": "display_data"
    }
   ],
   "source": [
    "us_data[-14:].plot(kind='bar')"
   ]
  },
  {
   "cell_type": "code",
   "execution_count": 21,
   "metadata": {},
   "outputs": [
    {
     "data": {
      "text/plain": [
       "<matplotlib.axes._subplots.AxesSubplot at 0x7f42c4acf828>"
      ]
     },
     "execution_count": 21,
     "metadata": {},
     "output_type": "execute_result"
    },
    {
     "data": {
      "image/png": "[encoded data removed]",
      "text/plain": [
       "<Figure size 432x288 with 1 Axes>"
      ]
     },
     "metadata": {
      "needs_background": "light"
     },
     "output_type": "display_data"
    }
   ],
   "source": [
    "us_data.Recovered[-14:].plot(kind='bar')"
   ]
  },
  {
   "cell_type": "code",
   "execution_count": 22,
   "metadata": {},
   "outputs": [
    {
     "data": {
      "text/plain": [
       "<matplotlib.axes._subplots.AxesSubplot at 0x7f42c4a05e80>"
      ]
     },
     "execution_count": 22,
     "metadata": {},
     "output_type": "execute_result"
    },
    {
     "data": {
      "image/png": "[encoded data removed]",
      "text/plain": [
       "<Figure size 432x288 with 1 Axes>"
      ]
     },
     "metadata": {
      "needs_background": "light"
     },
     "output_type": "display_data"
    }
   ],
   "source": [
    "us_data.Death[-14:].plot(kind='bar')"
   ]
  },
  {
   "cell_type": "code",
   "execution_count": null,
   "metadata": {},
   "outputs": [],
   "source": []
  }
 ],
 "metadata": {
  "kernelspec": {
   "display_name": "Python 3",
   "language": "python",
   "name": "python3"
  },
  "language_info": {
   "codemirror_mode": {
    "name": "ipython",
    "version": 3
   },
   "file_extension": ".py",
   "mimetype": "text/x-python",
   "name": "python",
   "nbconvert_exporter": "python",
   "pygments_lexer": "ipython3",
   "version": "3.6.8"
  }
 },
 "nbformat": 4,
 "nbformat_minor": 4
}
