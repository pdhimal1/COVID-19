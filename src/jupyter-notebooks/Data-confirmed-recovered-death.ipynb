{
 "cells": [
  {
   "cell_type": "code",
   "execution_count": 1,
   "metadata": {},
   "outputs": [],
   "source": [
    "import pandas as pd"
   ]
  },
  {
   "cell_type": "markdown",
   "metadata": {},
   "source": [
    "Import the data from the Novel Coronavirus COVID-19 Data Repository from Johns Hopkins University’s Center for Systems Science and Engineering (CSSE)"
   ]
  },
  {
   "cell_type": "code",
   "execution_count": 2,
   "metadata": {},
   "outputs": [],
   "source": [
    "def get_raw_date():\n",
    "    confirmed_df = pd.read_csv(\n",
    "        'https://raw.githubusercontent.com/CSSEGISandData/COVID-19/master/csse_covid_19_data/csse_covid_19_time_series/time_series_covid19_confirmed_global.csv')\n",
    "    recovered_df = pd.read_csv(\n",
    "        'https://raw.githubusercontent.com/CSSEGISandData/COVID-19/master/csse_covid_19_data/csse_covid_19_time_series/time_series_covid19_recovered_global.csv')\n",
    "    death_df = pd.read_csv(\n",
    "        'https://raw.githubusercontent.com/CSSEGISandData/COVID-19/master/csse_covid_19_data/csse_covid_19_time_series/time_series_covid19_deaths_global.csv')\n",
    "    return confirmed_df, recovered_df, death_df"
   ]
  },
  {
   "cell_type": "markdown",
   "metadata": {},
   "source": [
    "Get each country's confirmed, recovered, death.\n",
    "The original data is not really a time series data, we have to do some special handling.\n",
    "Some countries report data at the city level, we have to take a sum for those to get the country level data."
   ]
  },
  {
   "cell_type": "code",
   "execution_count": 3,
   "metadata": {},
   "outputs": [],
   "source": [
    "def get_country_data(data, columnName, countryName):\n",
    "    country_data = data.loc[data['Country/Region'] == countryName]\n",
    "    country_time_series_only = country_data.drop([\"Province/State\", \"Country/Region\", \"Lat\", \"Long\"], axis=1)\n",
    "    transposed = country_time_series_only.transpose()\n",
    "    transposed = pd.DataFrame({\n",
    "        columnName: transposed.sum(axis=1)\n",
    "    })\n",
    "    return transposed"
   ]
  },
  {
   "cell_type": "markdown",
   "metadata": {},
   "source": [
    "Put the country's confirmed, recovered, death data together"
   ]
  },
  {
   "cell_type": "code",
   "execution_count": 4,
   "metadata": {},
   "outputs": [],
   "source": [
    "def get_country_confirmed_recovered_death_data(confirmed_df, recovered_df, death_df, countryName):\n",
    "    country_confirmed = get_country_data(confirmed_df, \"Confirmed\", countryName)\n",
    "    country_recovered = get_country_data(recovered_df, \"Recovered\", countryName)\n",
    "    country_death = get_country_data(death_df, \"Death\", countryName)\n",
    "    country_all = country_confirmed\n",
    "    country_all[\"Recovered\"] = country_recovered.Recovered\n",
    "    country_all[\"Death\"] = country_death.Death\n",
    "    return country_all"
   ]
  },
  {
   "cell_type": "markdown",
   "metadata": {},
   "source": [
    "get the raw data"
   ]
  },
  {
   "cell_type": "code",
   "execution_count": 5,
   "metadata": {},
   "outputs": [],
   "source": [
    "confirmed_df, recovered_df, death_df = get_raw_date()"
   ]
  },
  {
   "cell_type": "code",
   "execution_count": 25,
   "metadata": {
    "scrolled": true
   },
   "outputs": [
    {
     "data": {
      "text/html": [
       "<div>\n",
       "<style scoped>\n",
       "    .dataframe tbody tr th:only-of-type {\n",
       "        vertical-align: middle;\n",
       "    }\n",
       "\n",
       "    .dataframe tbody tr th {\n",
       "        vertical-align: top;\n",
       "    }\n",
       "\n",
       "    .dataframe thead th {\n",
       "        text-align: right;\n",
       "    }\n",
       "</style>\n",
       "<table border=\"1\" class=\"dataframe\">\n",
       "  <thead>\n",
       "    <tr style=\"text-align: right;\">\n",
       "      <th></th>\n",
       "      <th>Province/State</th>\n",
       "      <th>Country/Region</th>\n",
       "      <th>Lat</th>\n",
       "      <th>Long</th>\n",
       "      <th>1/22/20</th>\n",
       "      <th>1/23/20</th>\n",
       "      <th>1/24/20</th>\n",
       "      <th>1/25/20</th>\n",
       "      <th>1/26/20</th>\n",
       "      <th>1/27/20</th>\n",
       "      <th>...</th>\n",
       "      <th>4/30/20</th>\n",
       "      <th>5/1/20</th>\n",
       "      <th>5/2/20</th>\n",
       "      <th>5/3/20</th>\n",
       "      <th>5/4/20</th>\n",
       "      <th>5/5/20</th>\n",
       "      <th>5/6/20</th>\n",
       "      <th>5/7/20</th>\n",
       "      <th>5/8/20</th>\n",
       "      <th>5/9/20</th>\n",
       "    </tr>\n",
       "  </thead>\n",
       "  <tbody>\n",
       "    <tr>\n",
       "      <th>0</th>\n",
       "      <td>NaN</td>\n",
       "      <td>Afghanistan</td>\n",
       "      <td>33.000000</td>\n",
       "      <td>65.000000</td>\n",
       "      <td>0</td>\n",
       "      <td>0</td>\n",
       "      <td>0</td>\n",
       "      <td>0</td>\n",
       "      <td>0</td>\n",
       "      <td>0</td>\n",
       "      <td>...</td>\n",
       "      <td>2171</td>\n",
       "      <td>2335</td>\n",
       "      <td>2469</td>\n",
       "      <td>2704</td>\n",
       "      <td>2894</td>\n",
       "      <td>3224</td>\n",
       "      <td>3392</td>\n",
       "      <td>3563</td>\n",
       "      <td>3778</td>\n",
       "      <td>4033</td>\n",
       "    </tr>\n",
       "    <tr>\n",
       "      <th>1</th>\n",
       "      <td>NaN</td>\n",
       "      <td>Albania</td>\n",
       "      <td>41.153300</td>\n",
       "      <td>20.168300</td>\n",
       "      <td>0</td>\n",
       "      <td>0</td>\n",
       "      <td>0</td>\n",
       "      <td>0</td>\n",
       "      <td>0</td>\n",
       "      <td>0</td>\n",
       "      <td>...</td>\n",
       "      <td>773</td>\n",
       "      <td>782</td>\n",
       "      <td>789</td>\n",
       "      <td>795</td>\n",
       "      <td>803</td>\n",
       "      <td>820</td>\n",
       "      <td>832</td>\n",
       "      <td>842</td>\n",
       "      <td>850</td>\n",
       "      <td>856</td>\n",
       "    </tr>\n",
       "    <tr>\n",
       "      <th>2</th>\n",
       "      <td>NaN</td>\n",
       "      <td>Algeria</td>\n",
       "      <td>28.033900</td>\n",
       "      <td>1.659600</td>\n",
       "      <td>0</td>\n",
       "      <td>0</td>\n",
       "      <td>0</td>\n",
       "      <td>0</td>\n",
       "      <td>0</td>\n",
       "      <td>0</td>\n",
       "      <td>...</td>\n",
       "      <td>4006</td>\n",
       "      <td>4154</td>\n",
       "      <td>4295</td>\n",
       "      <td>4474</td>\n",
       "      <td>4648</td>\n",
       "      <td>4838</td>\n",
       "      <td>4997</td>\n",
       "      <td>5182</td>\n",
       "      <td>5369</td>\n",
       "      <td>5558</td>\n",
       "    </tr>\n",
       "    <tr>\n",
       "      <th>3</th>\n",
       "      <td>NaN</td>\n",
       "      <td>Andorra</td>\n",
       "      <td>42.506300</td>\n",
       "      <td>1.521800</td>\n",
       "      <td>0</td>\n",
       "      <td>0</td>\n",
       "      <td>0</td>\n",
       "      <td>0</td>\n",
       "      <td>0</td>\n",
       "      <td>0</td>\n",
       "      <td>...</td>\n",
       "      <td>745</td>\n",
       "      <td>745</td>\n",
       "      <td>747</td>\n",
       "      <td>748</td>\n",
       "      <td>750</td>\n",
       "      <td>751</td>\n",
       "      <td>751</td>\n",
       "      <td>752</td>\n",
       "      <td>752</td>\n",
       "      <td>754</td>\n",
       "    </tr>\n",
       "    <tr>\n",
       "      <th>4</th>\n",
       "      <td>NaN</td>\n",
       "      <td>Angola</td>\n",
       "      <td>-11.202700</td>\n",
       "      <td>17.873900</td>\n",
       "      <td>0</td>\n",
       "      <td>0</td>\n",
       "      <td>0</td>\n",
       "      <td>0</td>\n",
       "      <td>0</td>\n",
       "      <td>0</td>\n",
       "      <td>...</td>\n",
       "      <td>27</td>\n",
       "      <td>30</td>\n",
       "      <td>35</td>\n",
       "      <td>35</td>\n",
       "      <td>35</td>\n",
       "      <td>36</td>\n",
       "      <td>36</td>\n",
       "      <td>36</td>\n",
       "      <td>43</td>\n",
       "      <td>43</td>\n",
       "    </tr>\n",
       "    <tr>\n",
       "      <th>...</th>\n",
       "      <td>...</td>\n",
       "      <td>...</td>\n",
       "      <td>...</td>\n",
       "      <td>...</td>\n",
       "      <td>...</td>\n",
       "      <td>...</td>\n",
       "      <td>...</td>\n",
       "      <td>...</td>\n",
       "      <td>...</td>\n",
       "      <td>...</td>\n",
       "      <td>...</td>\n",
       "      <td>...</td>\n",
       "      <td>...</td>\n",
       "      <td>...</td>\n",
       "      <td>...</td>\n",
       "      <td>...</td>\n",
       "      <td>...</td>\n",
       "      <td>...</td>\n",
       "      <td>...</td>\n",
       "      <td>...</td>\n",
       "      <td>...</td>\n",
       "    </tr>\n",
       "    <tr>\n",
       "      <th>261</th>\n",
       "      <td>NaN</td>\n",
       "      <td>Western Sahara</td>\n",
       "      <td>24.215500</td>\n",
       "      <td>-12.885800</td>\n",
       "      <td>0</td>\n",
       "      <td>0</td>\n",
       "      <td>0</td>\n",
       "      <td>0</td>\n",
       "      <td>0</td>\n",
       "      <td>0</td>\n",
       "      <td>...</td>\n",
       "      <td>6</td>\n",
       "      <td>6</td>\n",
       "      <td>6</td>\n",
       "      <td>6</td>\n",
       "      <td>6</td>\n",
       "      <td>6</td>\n",
       "      <td>6</td>\n",
       "      <td>6</td>\n",
       "      <td>6</td>\n",
       "      <td>6</td>\n",
       "    </tr>\n",
       "    <tr>\n",
       "      <th>262</th>\n",
       "      <td>NaN</td>\n",
       "      <td>Sao Tome and Principe</td>\n",
       "      <td>0.186360</td>\n",
       "      <td>6.613081</td>\n",
       "      <td>0</td>\n",
       "      <td>0</td>\n",
       "      <td>0</td>\n",
       "      <td>0</td>\n",
       "      <td>0</td>\n",
       "      <td>0</td>\n",
       "      <td>...</td>\n",
       "      <td>14</td>\n",
       "      <td>16</td>\n",
       "      <td>16</td>\n",
       "      <td>16</td>\n",
       "      <td>23</td>\n",
       "      <td>174</td>\n",
       "      <td>174</td>\n",
       "      <td>187</td>\n",
       "      <td>208</td>\n",
       "      <td>208</td>\n",
       "    </tr>\n",
       "    <tr>\n",
       "      <th>263</th>\n",
       "      <td>NaN</td>\n",
       "      <td>Yemen</td>\n",
       "      <td>15.552727</td>\n",
       "      <td>48.516388</td>\n",
       "      <td>0</td>\n",
       "      <td>0</td>\n",
       "      <td>0</td>\n",
       "      <td>0</td>\n",
       "      <td>0</td>\n",
       "      <td>0</td>\n",
       "      <td>...</td>\n",
       "      <td>6</td>\n",
       "      <td>7</td>\n",
       "      <td>10</td>\n",
       "      <td>10</td>\n",
       "      <td>12</td>\n",
       "      <td>22</td>\n",
       "      <td>25</td>\n",
       "      <td>25</td>\n",
       "      <td>34</td>\n",
       "      <td>34</td>\n",
       "    </tr>\n",
       "    <tr>\n",
       "      <th>264</th>\n",
       "      <td>NaN</td>\n",
       "      <td>Comoros</td>\n",
       "      <td>-11.645500</td>\n",
       "      <td>43.333300</td>\n",
       "      <td>0</td>\n",
       "      <td>0</td>\n",
       "      <td>0</td>\n",
       "      <td>0</td>\n",
       "      <td>0</td>\n",
       "      <td>0</td>\n",
       "      <td>...</td>\n",
       "      <td>1</td>\n",
       "      <td>1</td>\n",
       "      <td>3</td>\n",
       "      <td>3</td>\n",
       "      <td>3</td>\n",
       "      <td>3</td>\n",
       "      <td>8</td>\n",
       "      <td>8</td>\n",
       "      <td>8</td>\n",
       "      <td>11</td>\n",
       "    </tr>\n",
       "    <tr>\n",
       "      <th>265</th>\n",
       "      <td>NaN</td>\n",
       "      <td>Tajikistan</td>\n",
       "      <td>38.861034</td>\n",
       "      <td>71.276093</td>\n",
       "      <td>0</td>\n",
       "      <td>0</td>\n",
       "      <td>0</td>\n",
       "      <td>0</td>\n",
       "      <td>0</td>\n",
       "      <td>0</td>\n",
       "      <td>...</td>\n",
       "      <td>15</td>\n",
       "      <td>15</td>\n",
       "      <td>76</td>\n",
       "      <td>128</td>\n",
       "      <td>230</td>\n",
       "      <td>293</td>\n",
       "      <td>379</td>\n",
       "      <td>461</td>\n",
       "      <td>522</td>\n",
       "      <td>612</td>\n",
       "    </tr>\n",
       "  </tbody>\n",
       "</table>\n",
       "<p>266 rows × 113 columns</p>\n",
       "</div>"
      ],
      "text/plain": [
       "    Province/State         Country/Region        Lat       Long  1/22/20  \\\n",
       "0              NaN            Afghanistan  33.000000  65.000000        0   \n",
       "1              NaN                Albania  41.153300  20.168300        0   \n",
       "2              NaN                Algeria  28.033900   1.659600        0   \n",
       "3              NaN                Andorra  42.506300   1.521800        0   \n",
       "4              NaN                 Angola -11.202700  17.873900        0   \n",
       "..             ...                    ...        ...        ...      ...   \n",
       "261            NaN         Western Sahara  24.215500 -12.885800        0   \n",
       "262            NaN  Sao Tome and Principe   0.186360   6.613081        0   \n",
       "263            NaN                  Yemen  15.552727  48.516388        0   \n",
       "264            NaN                Comoros -11.645500  43.333300        0   \n",
       "265            NaN             Tajikistan  38.861034  71.276093        0   \n",
       "\n",
       "     1/23/20  1/24/20  1/25/20  1/26/20  1/27/20  ...  4/30/20  5/1/20  \\\n",
       "0          0        0        0        0        0  ...     2171    2335   \n",
       "1          0        0        0        0        0  ...      773     782   \n",
       "2          0        0        0        0        0  ...     4006    4154   \n",
       "3          0        0        0        0        0  ...      745     745   \n",
       "4          0        0        0        0        0  ...       27      30   \n",
       "..       ...      ...      ...      ...      ...  ...      ...     ...   \n",
       "261        0        0        0        0        0  ...        6       6   \n",
       "262        0        0        0        0        0  ...       14      16   \n",
       "263        0        0        0        0        0  ...        6       7   \n",
       "264        0        0        0        0        0  ...        1       1   \n",
       "265        0        0        0        0        0  ...       15      15   \n",
       "\n",
       "     5/2/20  5/3/20  5/4/20  5/5/20  5/6/20  5/7/20  5/8/20  5/9/20  \n",
       "0      2469    2704    2894    3224    3392    3563    3778    4033  \n",
       "1       789     795     803     820     832     842     850     856  \n",
       "2      4295    4474    4648    4838    4997    5182    5369    5558  \n",
       "3       747     748     750     751     751     752     752     754  \n",
       "4        35      35      35      36      36      36      43      43  \n",
       "..      ...     ...     ...     ...     ...     ...     ...     ...  \n",
       "261       6       6       6       6       6       6       6       6  \n",
       "262      16      16      23     174     174     187     208     208  \n",
       "263      10      10      12      22      25      25      34      34  \n",
       "264       3       3       3       3       8       8       8      11  \n",
       "265      76     128     230     293     379     461     522     612  \n",
       "\n",
       "[266 rows x 113 columns]"
      ]
     },
     "execution_count": 25,
     "metadata": {},
     "output_type": "execute_result"
    }
   ],
   "source": [
    "confirmed_df"
   ]
  },
  {
   "cell_type": "code",
   "execution_count": 20,
   "metadata": {},
   "outputs": [
    {
     "data": {
      "text/plain": [
       "'5/9/20'"
      ]
     },
     "execution_count": 20,
     "metadata": {},
     "output_type": "execute_result"
    }
   ],
   "source": [
    "last_reported_data = confirmed_df.columns[-1]\n",
    "last_reported_data"
   ]
  },
  {
   "cell_type": "markdown",
   "metadata": {},
   "source": [
    "List of countries with cases above 10k"
   ]
  },
  {
   "cell_type": "code",
   "execution_count": 32,
   "metadata": {},
   "outputs": [
    {
     "data": {
      "text/html": [
       "<div>\n",
       "<style scoped>\n",
       "    .dataframe tbody tr th:only-of-type {\n",
       "        vertical-align: middle;\n",
       "    }\n",
       "\n",
       "    .dataframe tbody tr th {\n",
       "        vertical-align: top;\n",
       "    }\n",
       "\n",
       "    .dataframe thead th {\n",
       "        text-align: right;\n",
       "    }\n",
       "</style>\n",
       "<table border=\"1\" class=\"dataframe\">\n",
       "  <thead>\n",
       "    <tr style=\"text-align: right;\">\n",
       "      <th></th>\n",
       "      <th>Country/Region</th>\n",
       "      <th>5/9/20</th>\n",
       "    </tr>\n",
       "  </thead>\n",
       "  <tbody>\n",
       "    <tr>\n",
       "      <th>16</th>\n",
       "      <td>Austria</td>\n",
       "      <td>15833</td>\n",
       "    </tr>\n",
       "    <tr>\n",
       "      <th>20</th>\n",
       "      <td>Bangladesh</td>\n",
       "      <td>13770</td>\n",
       "    </tr>\n",
       "    <tr>\n",
       "      <th>22</th>\n",
       "      <td>Belarus</td>\n",
       "      <td>22052</td>\n",
       "    </tr>\n",
       "    <tr>\n",
       "      <th>23</th>\n",
       "      <td>Belgium</td>\n",
       "      <td>52596</td>\n",
       "    </tr>\n",
       "    <tr>\n",
       "      <th>28</th>\n",
       "      <td>Brazil</td>\n",
       "      <td>156061</td>\n",
       "    </tr>\n",
       "    <tr>\n",
       "      <th>42</th>\n",
       "      <td>Canada</td>\n",
       "      <td>21148</td>\n",
       "    </tr>\n",
       "    <tr>\n",
       "      <th>44</th>\n",
       "      <td>Canada</td>\n",
       "      <td>36997</td>\n",
       "    </tr>\n",
       "    <tr>\n",
       "      <th>48</th>\n",
       "      <td>Chile</td>\n",
       "      <td>27219</td>\n",
       "    </tr>\n",
       "    <tr>\n",
       "      <th>62</th>\n",
       "      <td>China</td>\n",
       "      <td>68129</td>\n",
       "    </tr>\n",
       "    <tr>\n",
       "      <th>82</th>\n",
       "      <td>Colombia</td>\n",
       "      <td>10495</td>\n",
       "    </tr>\n",
       "    <tr>\n",
       "      <th>94</th>\n",
       "      <td>Denmark</td>\n",
       "      <td>10319</td>\n",
       "    </tr>\n",
       "    <tr>\n",
       "      <th>97</th>\n",
       "      <td>Ecuador</td>\n",
       "      <td>29071</td>\n",
       "    </tr>\n",
       "    <tr>\n",
       "      <th>116</th>\n",
       "      <td>France</td>\n",
       "      <td>174758</td>\n",
       "    </tr>\n",
       "    <tr>\n",
       "      <th>120</th>\n",
       "      <td>Germany</td>\n",
       "      <td>171324</td>\n",
       "    </tr>\n",
       "    <tr>\n",
       "      <th>131</th>\n",
       "      <td>India</td>\n",
       "      <td>62808</td>\n",
       "    </tr>\n",
       "    <tr>\n",
       "      <th>132</th>\n",
       "      <td>Indonesia</td>\n",
       "      <td>13645</td>\n",
       "    </tr>\n",
       "    <tr>\n",
       "      <th>133</th>\n",
       "      <td>Iran</td>\n",
       "      <td>106220</td>\n",
       "    </tr>\n",
       "    <tr>\n",
       "      <th>135</th>\n",
       "      <td>Ireland</td>\n",
       "      <td>22760</td>\n",
       "    </tr>\n",
       "    <tr>\n",
       "      <th>136</th>\n",
       "      <td>Israel</td>\n",
       "      <td>16454</td>\n",
       "    </tr>\n",
       "    <tr>\n",
       "      <th>137</th>\n",
       "      <td>Italy</td>\n",
       "      <td>218268</td>\n",
       "    </tr>\n",
       "    <tr>\n",
       "      <th>139</th>\n",
       "      <td>Japan</td>\n",
       "      <td>15663</td>\n",
       "    </tr>\n",
       "    <tr>\n",
       "      <th>143</th>\n",
       "      <td>Korea, South</td>\n",
       "      <td>10874</td>\n",
       "    </tr>\n",
       "    <tr>\n",
       "      <th>158</th>\n",
       "      <td>Mexico</td>\n",
       "      <td>33460</td>\n",
       "    </tr>\n",
       "    <tr>\n",
       "      <th>169</th>\n",
       "      <td>Netherlands</td>\n",
       "      <td>42382</td>\n",
       "    </tr>\n",
       "    <tr>\n",
       "      <th>177</th>\n",
       "      <td>Pakistan</td>\n",
       "      <td>28736</td>\n",
       "    </tr>\n",
       "    <tr>\n",
       "      <th>181</th>\n",
       "      <td>Peru</td>\n",
       "      <td>65015</td>\n",
       "    </tr>\n",
       "    <tr>\n",
       "      <th>182</th>\n",
       "      <td>Philippines</td>\n",
       "      <td>10610</td>\n",
       "    </tr>\n",
       "    <tr>\n",
       "      <th>183</th>\n",
       "      <td>Poland</td>\n",
       "      <td>15651</td>\n",
       "    </tr>\n",
       "    <tr>\n",
       "      <th>184</th>\n",
       "      <td>Portugal</td>\n",
       "      <td>27406</td>\n",
       "    </tr>\n",
       "    <tr>\n",
       "      <th>185</th>\n",
       "      <td>Qatar</td>\n",
       "      <td>21331</td>\n",
       "    </tr>\n",
       "    <tr>\n",
       "      <th>186</th>\n",
       "      <td>Romania</td>\n",
       "      <td>15131</td>\n",
       "    </tr>\n",
       "    <tr>\n",
       "      <th>187</th>\n",
       "      <td>Russia</td>\n",
       "      <td>198676</td>\n",
       "    </tr>\n",
       "    <tr>\n",
       "      <th>192</th>\n",
       "      <td>Saudi Arabia</td>\n",
       "      <td>37136</td>\n",
       "    </tr>\n",
       "    <tr>\n",
       "      <th>194</th>\n",
       "      <td>Serbia</td>\n",
       "      <td>10032</td>\n",
       "    </tr>\n",
       "    <tr>\n",
       "      <th>196</th>\n",
       "      <td>Singapore</td>\n",
       "      <td>22460</td>\n",
       "    </tr>\n",
       "    <tr>\n",
       "      <th>201</th>\n",
       "      <td>Spain</td>\n",
       "      <td>223578</td>\n",
       "    </tr>\n",
       "    <tr>\n",
       "      <th>205</th>\n",
       "      <td>Sweden</td>\n",
       "      <td>25921</td>\n",
       "    </tr>\n",
       "    <tr>\n",
       "      <th>206</th>\n",
       "      <td>Switzerland</td>\n",
       "      <td>30251</td>\n",
       "    </tr>\n",
       "    <tr>\n",
       "      <th>213</th>\n",
       "      <td>Turkey</td>\n",
       "      <td>137115</td>\n",
       "    </tr>\n",
       "    <tr>\n",
       "      <th>215</th>\n",
       "      <td>Ukraine</td>\n",
       "      <td>14710</td>\n",
       "    </tr>\n",
       "    <tr>\n",
       "      <th>216</th>\n",
       "      <td>United Arab Emirates</td>\n",
       "      <td>17417</td>\n",
       "    </tr>\n",
       "    <tr>\n",
       "      <th>223</th>\n",
       "      <td>United Kingdom</td>\n",
       "      <td>215260</td>\n",
       "    </tr>\n",
       "    <tr>\n",
       "      <th>225</th>\n",
       "      <td>US</td>\n",
       "      <td>1309550</td>\n",
       "    </tr>\n",
       "  </tbody>\n",
       "</table>\n",
       "</div>"
      ],
      "text/plain": [
       "           Country/Region   5/9/20\n",
       "16                Austria    15833\n",
       "20             Bangladesh    13770\n",
       "22                Belarus    22052\n",
       "23                Belgium    52596\n",
       "28                 Brazil   156061\n",
       "42                 Canada    21148\n",
       "44                 Canada    36997\n",
       "48                  Chile    27219\n",
       "62                  China    68129\n",
       "82               Colombia    10495\n",
       "94                Denmark    10319\n",
       "97                Ecuador    29071\n",
       "116                France   174758\n",
       "120               Germany   171324\n",
       "131                 India    62808\n",
       "132             Indonesia    13645\n",
       "133                  Iran   106220\n",
       "135               Ireland    22760\n",
       "136                Israel    16454\n",
       "137                 Italy   218268\n",
       "139                 Japan    15663\n",
       "143          Korea, South    10874\n",
       "158                Mexico    33460\n",
       "169           Netherlands    42382\n",
       "177              Pakistan    28736\n",
       "181                  Peru    65015\n",
       "182           Philippines    10610\n",
       "183                Poland    15651\n",
       "184              Portugal    27406\n",
       "185                 Qatar    21331\n",
       "186               Romania    15131\n",
       "187                Russia   198676\n",
       "192          Saudi Arabia    37136\n",
       "194                Serbia    10032\n",
       "196             Singapore    22460\n",
       "201                 Spain   223578\n",
       "205                Sweden    25921\n",
       "206           Switzerland    30251\n",
       "213                Turkey   137115\n",
       "215               Ukraine    14710\n",
       "216  United Arab Emirates    17417\n",
       "223        United Kingdom   215260\n",
       "225                    US  1309550"
      ]
     },
     "execution_count": 32,
     "metadata": {},
     "output_type": "execute_result"
    }
   ],
   "source": [
    "confirmed_df[confirmed_df[last_reported_data] >= 10000].loc[:, ['Country/Region',last_reported_data]]"
   ]
  },
  {
   "cell_type": "markdown",
   "metadata": {},
   "source": [
    "Get the data for the following countries:\n",
    " - US\n",
    " - Italy\n",
    " - China\n",
    " - France\n",
    " - Spain"
   ]
  },
  {
   "cell_type": "code",
   "execution_count": 33,
   "metadata": {},
   "outputs": [
    {
     "data": {
      "text/plain": [
       "['US', 'Italy', 'China', 'France', 'Spain']"
      ]
     },
     "execution_count": 33,
     "metadata": {},
     "output_type": "execute_result"
    }
   ],
   "source": [
    "countries = list()\n",
    "countries.append(\"US\")\n",
    "countries.append(\"Italy\")\n",
    "countries.append(\"China\")\n",
    "countries.append(\"France\")\n",
    "countries.append(\"Spain\")\n",
    "countries"
   ]
  },
  {
   "cell_type": "code",
   "execution_count": 34,
   "metadata": {
    "scrolled": false
   },
   "outputs": [
    {
     "data": {
      "text/html": [
       "<div>\n",
       "<style scoped>\n",
       "    .dataframe tbody tr th:only-of-type {\n",
       "        vertical-align: middle;\n",
       "    }\n",
       "\n",
       "    .dataframe tbody tr th {\n",
       "        vertical-align: top;\n",
       "    }\n",
       "\n",
       "    .dataframe thead th {\n",
       "        text-align: right;\n",
       "    }\n",
       "</style>\n",
       "<table border=\"1\" class=\"dataframe\">\n",
       "  <thead>\n",
       "    <tr style=\"text-align: right;\">\n",
       "      <th></th>\n",
       "      <th>US Confirmed</th>\n",
       "      <th>US Recovered</th>\n",
       "      <th>US Death</th>\n",
       "      <th>US Active</th>\n",
       "      <th>Italy Confirmed</th>\n",
       "      <th>Italy Recovered</th>\n",
       "      <th>Italy Death</th>\n",
       "      <th>Italy Active</th>\n",
       "      <th>China Confirmed</th>\n",
       "      <th>China Recovered</th>\n",
       "      <th>China Death</th>\n",
       "      <th>China Active</th>\n",
       "      <th>France Confirmed</th>\n",
       "      <th>France Recovered</th>\n",
       "      <th>France Death</th>\n",
       "      <th>France Active</th>\n",
       "      <th>Spain Confirmed</th>\n",
       "      <th>Spain Recovered</th>\n",
       "      <th>Spain Death</th>\n",
       "      <th>Spain Active</th>\n",
       "    </tr>\n",
       "  </thead>\n",
       "  <tbody>\n",
       "    <tr>\n",
       "      <th>4/30/20</th>\n",
       "      <td>1069424</td>\n",
       "      <td>153947</td>\n",
       "      <td>62996</td>\n",
       "      <td>852481</td>\n",
       "      <td>205463</td>\n",
       "      <td>75945</td>\n",
       "      <td>27967</td>\n",
       "      <td>101551</td>\n",
       "      <td>83956</td>\n",
       "      <td>78523</td>\n",
       "      <td>4637</td>\n",
       "      <td>796</td>\n",
       "      <td>167299</td>\n",
       "      <td>49476</td>\n",
       "      <td>24379</td>\n",
       "      <td>93444</td>\n",
       "      <td>213435</td>\n",
       "      <td>112050</td>\n",
       "      <td>24543</td>\n",
       "      <td>76842</td>\n",
       "    </tr>\n",
       "    <tr>\n",
       "      <th>5/1/20</th>\n",
       "      <td>1103461</td>\n",
       "      <td>164015</td>\n",
       "      <td>64943</td>\n",
       "      <td>874503</td>\n",
       "      <td>207428</td>\n",
       "      <td>78249</td>\n",
       "      <td>28236</td>\n",
       "      <td>100943</td>\n",
       "      <td>83959</td>\n",
       "      <td>78573</td>\n",
       "      <td>4637</td>\n",
       "      <td>749</td>\n",
       "      <td>167305</td>\n",
       "      <td>50212</td>\n",
       "      <td>24597</td>\n",
       "      <td>92496</td>\n",
       "      <td>213435</td>\n",
       "      <td>112050</td>\n",
       "      <td>24543</td>\n",
       "      <td>76842</td>\n",
       "    </tr>\n",
       "    <tr>\n",
       "      <th>5/2/20</th>\n",
       "      <td>1132539</td>\n",
       "      <td>175382</td>\n",
       "      <td>66369</td>\n",
       "      <td>890788</td>\n",
       "      <td>209328</td>\n",
       "      <td>79914</td>\n",
       "      <td>28710</td>\n",
       "      <td>100704</td>\n",
       "      <td>83959</td>\n",
       "      <td>78586</td>\n",
       "      <td>4637</td>\n",
       "      <td>736</td>\n",
       "      <td>168518</td>\n",
       "      <td>50663</td>\n",
       "      <td>24763</td>\n",
       "      <td>93092</td>\n",
       "      <td>216582</td>\n",
       "      <td>117248</td>\n",
       "      <td>25100</td>\n",
       "      <td>74234</td>\n",
       "    </tr>\n",
       "    <tr>\n",
       "      <th>5/3/20</th>\n",
       "      <td>1158040</td>\n",
       "      <td>180152</td>\n",
       "      <td>67682</td>\n",
       "      <td>910206</td>\n",
       "      <td>210717</td>\n",
       "      <td>81654</td>\n",
       "      <td>28884</td>\n",
       "      <td>100179</td>\n",
       "      <td>83964</td>\n",
       "      <td>78684</td>\n",
       "      <td>4637</td>\n",
       "      <td>643</td>\n",
       "      <td>168925</td>\n",
       "      <td>50885</td>\n",
       "      <td>24900</td>\n",
       "      <td>93140</td>\n",
       "      <td>217466</td>\n",
       "      <td>118902</td>\n",
       "      <td>25264</td>\n",
       "      <td>73300</td>\n",
       "    </tr>\n",
       "    <tr>\n",
       "      <th>5/4/20</th>\n",
       "      <td>1180375</td>\n",
       "      <td>187180</td>\n",
       "      <td>68922</td>\n",
       "      <td>924273</td>\n",
       "      <td>211938</td>\n",
       "      <td>82879</td>\n",
       "      <td>29079</td>\n",
       "      <td>99980</td>\n",
       "      <td>83966</td>\n",
       "      <td>78792</td>\n",
       "      <td>4637</td>\n",
       "      <td>537</td>\n",
       "      <td>169583</td>\n",
       "      <td>51476</td>\n",
       "      <td>25204</td>\n",
       "      <td>92903</td>\n",
       "      <td>218011</td>\n",
       "      <td>121343</td>\n",
       "      <td>25428</td>\n",
       "      <td>71240</td>\n",
       "    </tr>\n",
       "    <tr>\n",
       "      <th>5/5/20</th>\n",
       "      <td>1204351</td>\n",
       "      <td>189791</td>\n",
       "      <td>71064</td>\n",
       "      <td>943496</td>\n",
       "      <td>213013</td>\n",
       "      <td>85231</td>\n",
       "      <td>29315</td>\n",
       "      <td>98467</td>\n",
       "      <td>83968</td>\n",
       "      <td>78870</td>\n",
       "      <td>4637</td>\n",
       "      <td>461</td>\n",
       "      <td>170687</td>\n",
       "      <td>52842</td>\n",
       "      <td>25537</td>\n",
       "      <td>92308</td>\n",
       "      <td>219329</td>\n",
       "      <td>123486</td>\n",
       "      <td>25613</td>\n",
       "      <td>70230</td>\n",
       "    </tr>\n",
       "    <tr>\n",
       "      <th>5/6/20</th>\n",
       "      <td>1229331</td>\n",
       "      <td>189910</td>\n",
       "      <td>73455</td>\n",
       "      <td>965966</td>\n",
       "      <td>214457</td>\n",
       "      <td>93245</td>\n",
       "      <td>29684</td>\n",
       "      <td>91528</td>\n",
       "      <td>83970</td>\n",
       "      <td>78929</td>\n",
       "      <td>4637</td>\n",
       "      <td>404</td>\n",
       "      <td>174224</td>\n",
       "      <td>54079</td>\n",
       "      <td>25812</td>\n",
       "      <td>94333</td>\n",
       "      <td>220325</td>\n",
       "      <td>126002</td>\n",
       "      <td>25857</td>\n",
       "      <td>68466</td>\n",
       "    </tr>\n",
       "    <tr>\n",
       "      <th>5/7/20</th>\n",
       "      <td>1257023</td>\n",
       "      <td>195036</td>\n",
       "      <td>75662</td>\n",
       "      <td>986325</td>\n",
       "      <td>215858</td>\n",
       "      <td>96276</td>\n",
       "      <td>29958</td>\n",
       "      <td>89624</td>\n",
       "      <td>83975</td>\n",
       "      <td>78977</td>\n",
       "      <td>4637</td>\n",
       "      <td>361</td>\n",
       "      <td>174918</td>\n",
       "      <td>55191</td>\n",
       "      <td>25990</td>\n",
       "      <td>93737</td>\n",
       "      <td>221447</td>\n",
       "      <td>128511</td>\n",
       "      <td>26070</td>\n",
       "      <td>66866</td>\n",
       "    </tr>\n",
       "    <tr>\n",
       "      <th>5/8/20</th>\n",
       "      <td>1283929</td>\n",
       "      <td>198993</td>\n",
       "      <td>77180</td>\n",
       "      <td>1007756</td>\n",
       "      <td>217185</td>\n",
       "      <td>99023</td>\n",
       "      <td>30201</td>\n",
       "      <td>87961</td>\n",
       "      <td>83976</td>\n",
       "      <td>78993</td>\n",
       "      <td>4637</td>\n",
       "      <td>346</td>\n",
       "      <td>176202</td>\n",
       "      <td>55892</td>\n",
       "      <td>26233</td>\n",
       "      <td>94077</td>\n",
       "      <td>222857</td>\n",
       "      <td>131148</td>\n",
       "      <td>26299</td>\n",
       "      <td>65410</td>\n",
       "    </tr>\n",
       "    <tr>\n",
       "      <th>5/9/20</th>\n",
       "      <td>1309550</td>\n",
       "      <td>212534</td>\n",
       "      <td>78795</td>\n",
       "      <td>1018221</td>\n",
       "      <td>218268</td>\n",
       "      <td>103031</td>\n",
       "      <td>30395</td>\n",
       "      <td>84842</td>\n",
       "      <td>83990</td>\n",
       "      <td>79127</td>\n",
       "      <td>4637</td>\n",
       "      <td>226</td>\n",
       "      <td>176782</td>\n",
       "      <td>56148</td>\n",
       "      <td>26313</td>\n",
       "      <td>94321</td>\n",
       "      <td>223578</td>\n",
       "      <td>133952</td>\n",
       "      <td>26478</td>\n",
       "      <td>63148</td>\n",
       "    </tr>\n",
       "  </tbody>\n",
       "</table>\n",
       "</div>"
      ],
      "text/plain": [
       "         US Confirmed  US Recovered  US Death  US Active  Italy Confirmed  \\\n",
       "4/30/20       1069424        153947     62996     852481           205463   \n",
       "5/1/20        1103461        164015     64943     874503           207428   \n",
       "5/2/20        1132539        175382     66369     890788           209328   \n",
       "5/3/20        1158040        180152     67682     910206           210717   \n",
       "5/4/20        1180375        187180     68922     924273           211938   \n",
       "5/5/20        1204351        189791     71064     943496           213013   \n",
       "5/6/20        1229331        189910     73455     965966           214457   \n",
       "5/7/20        1257023        195036     75662     986325           215858   \n",
       "5/8/20        1283929        198993     77180    1007756           217185   \n",
       "5/9/20        1309550        212534     78795    1018221           218268   \n",
       "\n",
       "         Italy Recovered  Italy Death  Italy Active  China Confirmed  \\\n",
       "4/30/20            75945        27967        101551            83956   \n",
       "5/1/20             78249        28236        100943            83959   \n",
       "5/2/20             79914        28710        100704            83959   \n",
       "5/3/20             81654        28884        100179            83964   \n",
       "5/4/20             82879        29079         99980            83966   \n",
       "5/5/20             85231        29315         98467            83968   \n",
       "5/6/20             93245        29684         91528            83970   \n",
       "5/7/20             96276        29958         89624            83975   \n",
       "5/8/20             99023        30201         87961            83976   \n",
       "5/9/20            103031        30395         84842            83990   \n",
       "\n",
       "         China Recovered  China Death  China Active  France Confirmed  \\\n",
       "4/30/20            78523         4637           796            167299   \n",
       "5/1/20             78573         4637           749            167305   \n",
       "5/2/20             78586         4637           736            168518   \n",
       "5/3/20             78684         4637           643            168925   \n",
       "5/4/20             78792         4637           537            169583   \n",
       "5/5/20             78870         4637           461            170687   \n",
       "5/6/20             78929         4637           404            174224   \n",
       "5/7/20             78977         4637           361            174918   \n",
       "5/8/20             78993         4637           346            176202   \n",
       "5/9/20             79127         4637           226            176782   \n",
       "\n",
       "         France Recovered  France Death  France Active  Spain Confirmed  \\\n",
       "4/30/20             49476         24379          93444           213435   \n",
       "5/1/20              50212         24597          92496           213435   \n",
       "5/2/20              50663         24763          93092           216582   \n",
       "5/3/20              50885         24900          93140           217466   \n",
       "5/4/20              51476         25204          92903           218011   \n",
       "5/5/20              52842         25537          92308           219329   \n",
       "5/6/20              54079         25812          94333           220325   \n",
       "5/7/20              55191         25990          93737           221447   \n",
       "5/8/20              55892         26233          94077           222857   \n",
       "5/9/20              56148         26313          94321           223578   \n",
       "\n",
       "         Spain Recovered  Spain Death  Spain Active  \n",
       "4/30/20           112050        24543         76842  \n",
       "5/1/20            112050        24543         76842  \n",
       "5/2/20            117248        25100         74234  \n",
       "5/3/20            118902        25264         73300  \n",
       "5/4/20            121343        25428         71240  \n",
       "5/5/20            123486        25613         70230  \n",
       "5/6/20            126002        25857         68466  \n",
       "5/7/20            128511        26070         66866  \n",
       "5/8/20            131148        26299         65410  \n",
       "5/9/20            133952        26478         63148  "
      ]
     },
     "execution_count": 34,
     "metadata": {},
     "output_type": "execute_result"
    }
   ],
   "source": [
    "combined_data = pd.DataFrame()\n",
    "for country in countries:\n",
    "    country_data = get_country_confirmed_recovered_death_data(confirmed_df, recovered_df, death_df, country)\n",
    "    combined_data[country + \" Confirmed\"] = country_data.Confirmed\n",
    "    combined_data[country + \" Recovered\"] = country_data.Recovered\n",
    "    combined_data[country + \" Death\"] = country_data.Death\n",
    "    combined_data[country + \" Active\"] = country_data.Confirmed - (country_data.Recovered + country_data.Death)\n",
    "# last 10 days\n",
    "combined_data.iloc[-10:]"
   ]
  },
  {
   "cell_type": "markdown",
   "metadata": {},
   "source": [
    "Plot all of the data, this is kind of messy."
   ]
  },
  {
   "cell_type": "code",
   "execution_count": 35,
   "metadata": {
    "scrolled": false
   },
   "outputs": [
    {
     "data": {
      "text/plain": [
       "<matplotlib.legend.Legend at 0x7f0f5ab5e2e8>"
      ]
     },
     "execution_count": 35,
     "metadata": {},
     "output_type": "execute_result"
    },
    {
     "data": {
      "image/png": "[encoded data removed]",
      "text/plain": [
       "<Figure size 432x288 with 1 Axes>"
      ]
     },
     "metadata": {
      "needs_background": "light"
     },
     "output_type": "display_data"
    }
   ],
   "source": [
    "combined_data.plot().legend(loc='center left', bbox_to_anchor=(1.0, 0.5))"
   ]
  },
  {
   "cell_type": "markdown",
   "metadata": {},
   "source": [
    "Show the confirmed cases in these countries."
   ]
  },
  {
   "cell_type": "code",
   "execution_count": 36,
   "metadata": {
    "scrolled": true
   },
   "outputs": [
    {
     "data": {
      "text/plain": [
       "<matplotlib.axes._subplots.AxesSubplot at 0x7f0f5a8f9dd8>"
      ]
     },
     "execution_count": 36,
     "metadata": {},
     "output_type": "execute_result"
    },
    {
     "data": {
      "image/png": "[encoded data removed]",
      "text/plain": [
       "<Figure size 432x288 with 1 Axes>"
      ]
     },
     "metadata": {
      "needs_background": "light"
     },
     "output_type": "display_data"
    }
   ],
   "source": [
    "pd.DataFrame({   \n",
    "    'US Confirmed': combined_data[\"US Confirmed\"],\n",
    "    'China Confirmed': combined_data[\"China Confirmed\"],\n",
    "    'Italy Confirmed': combined_data[\"Italy Confirmed\"],\n",
    "    'France Confirmed': combined_data[\"France Confirmed\"],\n",
    "    'Spain Confirmed': combined_data[\"Spain Confirmed\"]\n",
    "}).plot()"
   ]
  },
  {
   "cell_type": "markdown",
   "metadata": {},
   "source": [
    "Show the deaths in these countries."
   ]
  },
  {
   "cell_type": "code",
   "execution_count": 37,
   "metadata": {
    "scrolled": true
   },
   "outputs": [
    {
     "data": {
      "text/plain": [
       "<matplotlib.axes._subplots.AxesSubplot at 0x7f0f5a8d1eb8>"
      ]
     },
     "execution_count": 37,
     "metadata": {},
     "output_type": "execute_result"
    },
    {
     "data": {
      "image/png": "[encoded data removed]",
      "text/plain": [
       "<Figure size 432x288 with 1 Axes>"
      ]
     },
     "metadata": {
      "needs_background": "light"
     },
     "output_type": "display_data"
    }
   ],
   "source": [
    "pd.DataFrame({   \n",
    "    'US Death': combined_data[\"US Death\"],\n",
    "    'China Death': combined_data[\"China Death\"],\n",
    "    'Italy Death': combined_data[\"Italy Death\"],\n",
    "    'France Death': combined_data[\"France Death\"],\n",
    "    'Spain Death': combined_data[\"Spain Death\"]\n",
    "}).plot()"
   ]
  },
  {
   "cell_type": "markdown",
   "metadata": {},
   "source": [
    "Show the recovered cases in these countries."
   ]
  },
  {
   "cell_type": "code",
   "execution_count": 38,
   "metadata": {
    "scrolled": false
   },
   "outputs": [
    {
     "data": {
      "text/plain": [
       "<matplotlib.axes._subplots.AxesSubplot at 0x7f0f5a83cc18>"
      ]
     },
     "execution_count": 38,
     "metadata": {},
     "output_type": "execute_result"
    },
    {
     "data": {
      "image/png": "[encoded data removed]",
      "text/plain": [
       "<Figure size 432x288 with 1 Axes>"
      ]
     },
     "metadata": {
      "needs_background": "light"
     },
     "output_type": "display_data"
    }
   ],
   "source": [
    "pd.DataFrame({   \n",
    "    'US Recovered': combined_data[\"US Recovered\"],\n",
    "    'China Recovered': combined_data[\"China Recovered\"],\n",
    "    'Italy Recovered': combined_data[\"Italy Recovered\"],\n",
    "    'France Recovered': combined_data[\"France Recovered\"],\n",
    "    'Spain Recovered': combined_data[\"Spain Recovered\"]\n",
    "}).plot()"
   ]
  },
  {
   "cell_type": "markdown",
   "metadata": {},
   "source": [
    "Looking at the active cases:\n",
    "    - active cases = confirmed - (recovered + death)"
   ]
  },
  {
   "cell_type": "code",
   "execution_count": 39,
   "metadata": {},
   "outputs": [
    {
     "data": {
      "text/plain": [
       "<matplotlib.axes._subplots.AxesSubplot at 0x7f0f5a7b8588>"
      ]
     },
     "execution_count": 39,
     "metadata": {},
     "output_type": "execute_result"
    },
    {
     "data": {
      "image/png": "[encoded data removed]",
      "text/plain": [
       "<Figure size 432x288 with 1 Axes>"
      ]
     },
     "metadata": {
      "needs_background": "light"
     },
     "output_type": "display_data"
    }
   ],
   "source": [
    "pd.DataFrame({   \n",
    "    'US Active': combined_data[\"US Active\"],\n",
    "    'China Active': combined_data[\"China Active\"],\n",
    "    'Italy Active': combined_data[\"Italy Active\"],\n",
    "    'France Active': combined_data[\"France Active\"],\n",
    "    'Spain Active': combined_data[\"Spain Active\"]\n",
    "}).plot()"
   ]
  },
  {
   "cell_type": "markdown",
   "metadata": {},
   "source": [
    "US recovered looks interesting, specially since March 22.\n",
    "Anti-malarial drugs hydroxychloroquine and chloroquine coming into play here?"
   ]
  },
  {
   "cell_type": "code",
   "execution_count": 40,
   "metadata": {},
   "outputs": [
    {
     "data": {
      "text/plain": [
       "<matplotlib.axes._subplots.AxesSubplot at 0x7f0f5a72a128>"
      ]
     },
     "execution_count": 40,
     "metadata": {},
     "output_type": "execute_result"
    },
    {
     "data": {
      "image/png": "[encoded data removed]",
      "text/plain": [
       "<Figure size 432x288 with 1 Axes>"
      ]
     },
     "metadata": {
      "needs_background": "light"
     },
     "output_type": "display_data"
    }
   ],
   "source": [
    "pd.DataFrame({   \n",
    "    'US Recovered': combined_data[\"US Recovered\"]\n",
    "}).plot()"
   ]
  },
  {
   "cell_type": "code",
   "execution_count": 41,
   "metadata": {},
   "outputs": [],
   "source": [
    "# look for the doubling rate? - number of days to double the cases\n",
    "\n",
    "# predict the R-naught"
   ]
  },
  {
   "cell_type": "code",
   "execution_count": 42,
   "metadata": {},
   "outputs": [
    {
     "data": {
      "text/plain": [
       "Index(['US Confirmed', 'US Recovered', 'US Death', 'US Active',\n",
       "       'Italy Confirmed', 'Italy Recovered', 'Italy Death', 'Italy Active',\n",
       "       'China Confirmed', 'China Recovered', 'China Death', 'China Active',\n",
       "       'France Confirmed', 'France Recovered', 'France Death', 'France Active',\n",
       "       'Spain Confirmed', 'Spain Recovered', 'Spain Death', 'Spain Active'],\n",
       "      dtype='object')"
      ]
     },
     "execution_count": 42,
     "metadata": {},
     "output_type": "execute_result"
    }
   ],
   "source": [
    "combined_data.columns"
   ]
  },
  {
   "cell_type": "markdown",
   "metadata": {},
   "source": [
    "## Looking into US only data"
   ]
  },
  {
   "cell_type": "code",
   "execution_count": 50,
   "metadata": {},
   "outputs": [
    {
     "data": {
      "text/html": [
       "<div>\n",
       "<style scoped>\n",
       "    .dataframe tbody tr th:only-of-type {\n",
       "        vertical-align: middle;\n",
       "    }\n",
       "\n",
       "    .dataframe tbody tr th {\n",
       "        vertical-align: top;\n",
       "    }\n",
       "\n",
       "    .dataframe thead th {\n",
       "        text-align: right;\n",
       "    }\n",
       "</style>\n",
       "<table border=\"1\" class=\"dataframe\">\n",
       "  <thead>\n",
       "    <tr style=\"text-align: right;\">\n",
       "      <th></th>\n",
       "      <th>Confirmed</th>\n",
       "      <th>Recovered</th>\n",
       "      <th>Death</th>\n",
       "    </tr>\n",
       "  </thead>\n",
       "  <tbody>\n",
       "    <tr>\n",
       "      <th>1/22/20</th>\n",
       "      <td>1</td>\n",
       "      <td>0</td>\n",
       "      <td>0</td>\n",
       "    </tr>\n",
       "    <tr>\n",
       "      <th>1/23/20</th>\n",
       "      <td>1</td>\n",
       "      <td>0</td>\n",
       "      <td>0</td>\n",
       "    </tr>\n",
       "    <tr>\n",
       "      <th>1/24/20</th>\n",
       "      <td>2</td>\n",
       "      <td>0</td>\n",
       "      <td>0</td>\n",
       "    </tr>\n",
       "    <tr>\n",
       "      <th>1/25/20</th>\n",
       "      <td>2</td>\n",
       "      <td>0</td>\n",
       "      <td>0</td>\n",
       "    </tr>\n",
       "    <tr>\n",
       "      <th>1/26/20</th>\n",
       "      <td>5</td>\n",
       "      <td>0</td>\n",
       "      <td>0</td>\n",
       "    </tr>\n",
       "    <tr>\n",
       "      <th>...</th>\n",
       "      <td>...</td>\n",
       "      <td>...</td>\n",
       "      <td>...</td>\n",
       "    </tr>\n",
       "    <tr>\n",
       "      <th>5/5/20</th>\n",
       "      <td>1204351</td>\n",
       "      <td>189791</td>\n",
       "      <td>71064</td>\n",
       "    </tr>\n",
       "    <tr>\n",
       "      <th>5/6/20</th>\n",
       "      <td>1229331</td>\n",
       "      <td>189910</td>\n",
       "      <td>73455</td>\n",
       "    </tr>\n",
       "    <tr>\n",
       "      <th>5/7/20</th>\n",
       "      <td>1257023</td>\n",
       "      <td>195036</td>\n",
       "      <td>75662</td>\n",
       "    </tr>\n",
       "    <tr>\n",
       "      <th>5/8/20</th>\n",
       "      <td>1283929</td>\n",
       "      <td>198993</td>\n",
       "      <td>77180</td>\n",
       "    </tr>\n",
       "    <tr>\n",
       "      <th>5/9/20</th>\n",
       "      <td>1309550</td>\n",
       "      <td>212534</td>\n",
       "      <td>78795</td>\n",
       "    </tr>\n",
       "  </tbody>\n",
       "</table>\n",
       "<p>109 rows × 3 columns</p>\n",
       "</div>"
      ],
      "text/plain": [
       "         Confirmed  Recovered  Death\n",
       "1/22/20          1          0      0\n",
       "1/23/20          1          0      0\n",
       "1/24/20          2          0      0\n",
       "1/25/20          2          0      0\n",
       "1/26/20          5          0      0\n",
       "...            ...        ...    ...\n",
       "5/5/20     1204351     189791  71064\n",
       "5/6/20     1229331     189910  73455\n",
       "5/7/20     1257023     195036  75662\n",
       "5/8/20     1283929     198993  77180\n",
       "5/9/20     1309550     212534  78795\n",
       "\n",
       "[109 rows x 3 columns]"
      ]
     },
     "execution_count": 50,
     "metadata": {},
     "output_type": "execute_result"
    }
   ],
   "source": [
    "us_data = get_country_confirmed_recovered_death_data(confirmed_df, recovered_df, death_df, \"US\")\n",
    "us_data"
   ]
  },
  {
   "cell_type": "markdown",
   "metadata": {},
   "source": [
    "Last 14 days trend"
   ]
  },
  {
   "cell_type": "code",
   "execution_count": 51,
   "metadata": {},
   "outputs": [
    {
     "data": {
      "text/plain": [
       "<matplotlib.axes._subplots.AxesSubplot at 0x7f0f5a09acf8>"
      ]
     },
     "execution_count": 51,
     "metadata": {},
     "output_type": "execute_result"
    },
    {
     "data": {
      "image/png": "[encoded data removed]",
      "text/plain": [
       "<Figure size 432x288 with 1 Axes>"
      ]
     },
     "metadata": {
      "needs_background": "light"
     },
     "output_type": "display_data"
    }
   ],
   "source": [
    "us_data[-14:].plot(kind='bar')"
   ]
  },
  {
   "cell_type": "code",
   "execution_count": 52,
   "metadata": {},
   "outputs": [
    {
     "data": {
      "text/plain": [
       "<matplotlib.axes._subplots.AxesSubplot at 0x7f0f59fffc50>"
      ]
     },
     "execution_count": 52,
     "metadata": {},
     "output_type": "execute_result"
    },
    {
     "data": {
      "image/png": "[encoded data removed]",
      "text/plain": [
       "<Figure size 432x288 with 1 Axes>"
      ]
     },
     "metadata": {
      "needs_background": "light"
     },
     "output_type": "display_data"
    }
   ],
   "source": [
    "us_data.Recovered[-14:].plot(kind='bar')"
   ]
  },
  {
   "cell_type": "code",
   "execution_count": 53,
   "metadata": {},
   "outputs": [
    {
     "data": {
      "text/plain": [
       "<matplotlib.axes._subplots.AxesSubplot at 0x7f0f59fcfcf8>"
      ]
     },
     "execution_count": 53,
     "metadata": {},
     "output_type": "execute_result"
    },
    {
     "data": {
      "image/png": "[encoded data removed]",
      "text/plain": [
       "<Figure size 432x288 with 1 Axes>"
      ]
     },
     "metadata": {
      "needs_background": "light"
     },
     "output_type": "display_data"
    }
   ],
   "source": [
    "us_data.Death[-14:].plot(kind='bar')"
   ]
  },
  {
   "cell_type": "code",
   "execution_count": null,
   "metadata": {},
   "outputs": [],
   "source": []
  }
 ],
 "metadata": {
  "kernelspec": {
   "display_name": "Python 3",
   "language": "python",
   "name": "python3"
  },
  "language_info": {
   "codemirror_mode": {
    "name": "ipython",
    "version": 3
   },
   "file_extension": ".py",
   "mimetype": "text/x-python",
   "name": "python",
   "nbconvert_exporter": "python",
   "pygments_lexer": "ipython3",
   "version": "3.6.8"
  }
 },
 "nbformat": 4,
 "nbformat_minor": 4
}
